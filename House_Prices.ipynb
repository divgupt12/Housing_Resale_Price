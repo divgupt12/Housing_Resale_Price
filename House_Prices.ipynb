{
  "cells": [
    {
      "cell_type": "markdown",
      "metadata": {
        "id": "view-in-github",
        "colab_type": "text"
      },
      "source": [
        "<a href=\"https://colab.research.google.com/github/divgupt12/Housing_Resale_Price/blob/main/House_Prices.ipynb\" target=\"_parent\"><img src=\"https://colab.research.google.com/assets/colab-badge.svg\" alt=\"Open In Colab\"/></a>"
      ]
    },
    {
      "cell_type": "code",
      "execution_count": null,
      "metadata": {
        "id": "S_8KqcAnAoNk"
      },
      "outputs": [],
      "source": [
        "import pandas as pd"
      ]
    },
    {
      "cell_type": "code",
      "execution_count": null,
      "metadata": {
        "id": "cG_YWcqSCGPL"
      },
      "outputs": [],
      "source": [
        "df = pd.read_csv(\"/content/ResaleFlatPrice.csv\") #reading csv file"
      ]
    },
    {
      "cell_type": "code",
      "execution_count": null,
      "metadata": {
        "colab": {
          "base_uri": "https://localhost:8080/",
          "height": 653
        },
        "id": "4Okc-BC6COLJ",
        "outputId": "8f53ed2e-c6b6-44a1-e6e3-076a68699c62"
      },
      "outputs": [
        {
          "data": {
            "text/html": [
              "\n",
              "  <div id=\"df-38c2b2da-1661-4555-973d-b08ad43187b8\">\n",
              "    <div class=\"colab-df-container\">\n",
              "      <div>\n",
              "<style scoped>\n",
              "    .dataframe tbody tr th:only-of-type {\n",
              "        vertical-align: middle;\n",
              "    }\n",
              "\n",
              "    .dataframe tbody tr th {\n",
              "        vertical-align: top;\n",
              "    }\n",
              "\n",
              "    .dataframe thead th {\n",
              "        text-align: right;\n",
              "    }\n",
              "</style>\n",
              "<table border=\"1\" class=\"dataframe\">\n",
              "  <thead>\n",
              "    <tr style=\"text-align: right;\">\n",
              "      <th></th>\n",
              "      <th>month</th>\n",
              "      <th>town</th>\n",
              "      <th>flat_type</th>\n",
              "      <th>block</th>\n",
              "      <th>street_name</th>\n",
              "      <th>storey_range</th>\n",
              "      <th>floor_area_sqm</th>\n",
              "      <th>flat_model</th>\n",
              "      <th>lease_commence_date</th>\n",
              "      <th>remaining_lease</th>\n",
              "      <th>resale_price</th>\n",
              "    </tr>\n",
              "  </thead>\n",
              "  <tbody>\n",
              "    <tr>\n",
              "      <th>0</th>\n",
              "      <td>2019-01</td>\n",
              "      <td>ANG MO KIO</td>\n",
              "      <td>3 ROOM</td>\n",
              "      <td>330</td>\n",
              "      <td>ANG MO KIO AVE 1</td>\n",
              "      <td>01 TO 03</td>\n",
              "      <td>68.0</td>\n",
              "      <td>New Generation</td>\n",
              "      <td>1981</td>\n",
              "      <td>61 years 01 month</td>\n",
              "      <td>270000.0</td>\n",
              "    </tr>\n",
              "    <tr>\n",
              "      <th>1</th>\n",
              "      <td>2019-01</td>\n",
              "      <td>ANG MO KIO</td>\n",
              "      <td>3 ROOM</td>\n",
              "      <td>215</td>\n",
              "      <td>ANG MO KIO AVE 1</td>\n",
              "      <td>04 TO 06</td>\n",
              "      <td>73.0</td>\n",
              "      <td>New Generation</td>\n",
              "      <td>1976</td>\n",
              "      <td>56 years 04 months</td>\n",
              "      <td>295000.0</td>\n",
              "    </tr>\n",
              "    <tr>\n",
              "      <th>2</th>\n",
              "      <td>2019-01</td>\n",
              "      <td>ANG MO KIO</td>\n",
              "      <td>3 ROOM</td>\n",
              "      <td>225</td>\n",
              "      <td>ANG MO KIO AVE 1</td>\n",
              "      <td>07 TO 09</td>\n",
              "      <td>67.0</td>\n",
              "      <td>New Generation</td>\n",
              "      <td>1978</td>\n",
              "      <td>58 years 01 month</td>\n",
              "      <td>270000.0</td>\n",
              "    </tr>\n",
              "    <tr>\n",
              "      <th>3</th>\n",
              "      <td>2019-01</td>\n",
              "      <td>ANG MO KIO</td>\n",
              "      <td>3 ROOM</td>\n",
              "      <td>225</td>\n",
              "      <td>ANG MO KIO AVE 1</td>\n",
              "      <td>01 TO 03</td>\n",
              "      <td>67.0</td>\n",
              "      <td>New Generation</td>\n",
              "      <td>1978</td>\n",
              "      <td>58 years</td>\n",
              "      <td>230000.0</td>\n",
              "    </tr>\n",
              "    <tr>\n",
              "      <th>4</th>\n",
              "      <td>2019-01</td>\n",
              "      <td>ANG MO KIO</td>\n",
              "      <td>3 ROOM</td>\n",
              "      <td>333</td>\n",
              "      <td>ANG MO KIO AVE 1</td>\n",
              "      <td>01 TO 03</td>\n",
              "      <td>68.0</td>\n",
              "      <td>New Generation</td>\n",
              "      <td>1981</td>\n",
              "      <td>61 years</td>\n",
              "      <td>262500.0</td>\n",
              "    </tr>\n",
              "    <tr>\n",
              "      <th>...</th>\n",
              "      <td>...</td>\n",
              "      <td>...</td>\n",
              "      <td>...</td>\n",
              "      <td>...</td>\n",
              "      <td>...</td>\n",
              "      <td>...</td>\n",
              "      <td>...</td>\n",
              "      <td>...</td>\n",
              "      <td>...</td>\n",
              "      <td>...</td>\n",
              "      <td>...</td>\n",
              "    </tr>\n",
              "    <tr>\n",
              "      <th>22199</th>\n",
              "      <td>2019-12</td>\n",
              "      <td>YISHUN</td>\n",
              "      <td>EXECUTIVE</td>\n",
              "      <td>326</td>\n",
              "      <td>YISHUN RING RD</td>\n",
              "      <td>04 TO 06</td>\n",
              "      <td>142.0</td>\n",
              "      <td>Apartment</td>\n",
              "      <td>1988</td>\n",
              "      <td>67 years 07 months</td>\n",
              "      <td>580000.0</td>\n",
              "    </tr>\n",
              "    <tr>\n",
              "      <th>22200</th>\n",
              "      <td>2019-12</td>\n",
              "      <td>YISHUN</td>\n",
              "      <td>EXECUTIVE</td>\n",
              "      <td>326</td>\n",
              "      <td>YISHUN RING RD</td>\n",
              "      <td>07 TO 09</td>\n",
              "      <td>146.0</td>\n",
              "      <td>Maisonette</td>\n",
              "      <td>1988</td>\n",
              "      <td>67 years 07 months</td>\n",
              "      <td>565000.0</td>\n",
              "    </tr>\n",
              "    <tr>\n",
              "      <th>22201</th>\n",
              "      <td>2019-12</td>\n",
              "      <td>YISHUN</td>\n",
              "      <td>EXECUTIVE</td>\n",
              "      <td>608</td>\n",
              "      <td>YISHUN ST 61</td>\n",
              "      <td>01 TO 03</td>\n",
              "      <td>164.0</td>\n",
              "      <td>Apartment</td>\n",
              "      <td>1992</td>\n",
              "      <td>71 years 06 months</td>\n",
              "      <td>633000.0</td>\n",
              "    </tr>\n",
              "    <tr>\n",
              "      <th>22202</th>\n",
              "      <td>2019-12</td>\n",
              "      <td>YISHUN</td>\n",
              "      <td>EXECUTIVE</td>\n",
              "      <td>604</td>\n",
              "      <td>YISHUN ST 61</td>\n",
              "      <td>10 TO 12</td>\n",
              "      <td>164.0</td>\n",
              "      <td>Apartment</td>\n",
              "      <td>1992</td>\n",
              "      <td>71 years 06 months</td>\n",
              "      <td>788888.0</td>\n",
              "    </tr>\n",
              "    <tr>\n",
              "      <th>22203</th>\n",
              "      <td>2019-12</td>\n",
              "      <td>YISHUN</td>\n",
              "      <td>EXECUTIVE</td>\n",
              "      <td>877</td>\n",
              "      <td>YISHUN ST 81</td>\n",
              "      <td>07 TO 09</td>\n",
              "      <td>145.0</td>\n",
              "      <td>Maisonette</td>\n",
              "      <td>1987</td>\n",
              "      <td>67 years 01 month</td>\n",
              "      <td>618000.0</td>\n",
              "    </tr>\n",
              "  </tbody>\n",
              "</table>\n",
              "<p>22204 rows × 11 columns</p>\n",
              "</div>\n",
              "      <button class=\"colab-df-convert\" onclick=\"convertToInteractive('df-38c2b2da-1661-4555-973d-b08ad43187b8')\"\n",
              "              title=\"Convert this dataframe to an interactive table.\"\n",
              "              style=\"display:none;\">\n",
              "        \n",
              "  <svg xmlns=\"http://www.w3.org/2000/svg\" height=\"24px\"viewBox=\"0 0 24 24\"\n",
              "       width=\"24px\">\n",
              "    <path d=\"M0 0h24v24H0V0z\" fill=\"none\"/>\n",
              "    <path d=\"M18.56 5.44l.94 2.06.94-2.06 2.06-.94-2.06-.94-.94-2.06-.94 2.06-2.06.94zm-11 1L8.5 8.5l.94-2.06 2.06-.94-2.06-.94L8.5 2.5l-.94 2.06-2.06.94zm10 10l.94 2.06.94-2.06 2.06-.94-2.06-.94-.94-2.06-.94 2.06-2.06.94z\"/><path d=\"M17.41 7.96l-1.37-1.37c-.4-.4-.92-.59-1.43-.59-.52 0-1.04.2-1.43.59L10.3 9.45l-7.72 7.72c-.78.78-.78 2.05 0 2.83L4 21.41c.39.39.9.59 1.41.59.51 0 1.02-.2 1.41-.59l7.78-7.78 2.81-2.81c.8-.78.8-2.07 0-2.86zM5.41 20L4 18.59l7.72-7.72 1.47 1.35L5.41 20z\"/>\n",
              "  </svg>\n",
              "      </button>\n",
              "      \n",
              "  <style>\n",
              "    .colab-df-container {\n",
              "      display:flex;\n",
              "      flex-wrap:wrap;\n",
              "      gap: 12px;\n",
              "    }\n",
              "\n",
              "    .colab-df-convert {\n",
              "      background-color: #E8F0FE;\n",
              "      border: none;\n",
              "      border-radius: 50%;\n",
              "      cursor: pointer;\n",
              "      display: none;\n",
              "      fill: #1967D2;\n",
              "      height: 32px;\n",
              "      padding: 0 0 0 0;\n",
              "      width: 32px;\n",
              "    }\n",
              "\n",
              "    .colab-df-convert:hover {\n",
              "      background-color: #E2EBFA;\n",
              "      box-shadow: 0px 1px 2px rgba(60, 64, 67, 0.3), 0px 1px 3px 1px rgba(60, 64, 67, 0.15);\n",
              "      fill: #174EA6;\n",
              "    }\n",
              "\n",
              "    [theme=dark] .colab-df-convert {\n",
              "      background-color: #3B4455;\n",
              "      fill: #D2E3FC;\n",
              "    }\n",
              "\n",
              "    [theme=dark] .colab-df-convert:hover {\n",
              "      background-color: #434B5C;\n",
              "      box-shadow: 0px 1px 3px 1px rgba(0, 0, 0, 0.15);\n",
              "      filter: drop-shadow(0px 1px 2px rgba(0, 0, 0, 0.3));\n",
              "      fill: #FFFFFF;\n",
              "    }\n",
              "  </style>\n",
              "\n",
              "      <script>\n",
              "        const buttonEl =\n",
              "          document.querySelector('#df-38c2b2da-1661-4555-973d-b08ad43187b8 button.colab-df-convert');\n",
              "        buttonEl.style.display =\n",
              "          google.colab.kernel.accessAllowed ? 'block' : 'none';\n",
              "\n",
              "        async function convertToInteractive(key) {\n",
              "          const element = document.querySelector('#df-38c2b2da-1661-4555-973d-b08ad43187b8');\n",
              "          const dataTable =\n",
              "            await google.colab.kernel.invokeFunction('convertToInteractive',\n",
              "                                                     [key], {});\n",
              "          if (!dataTable) return;\n",
              "\n",
              "          const docLinkHtml = 'Like what you see? Visit the ' +\n",
              "            '<a target=\"_blank\" href=https://colab.research.google.com/notebooks/data_table.ipynb>data table notebook</a>'\n",
              "            + ' to learn more about interactive tables.';\n",
              "          element.innerHTML = '';\n",
              "          dataTable['output_type'] = 'display_data';\n",
              "          await google.colab.output.renderOutput(dataTable, element);\n",
              "          const docLink = document.createElement('div');\n",
              "          docLink.innerHTML = docLinkHtml;\n",
              "          element.appendChild(docLink);\n",
              "        }\n",
              "      </script>\n",
              "    </div>\n",
              "  </div>\n",
              "  "
            ],
            "text/plain": [
              "         month        town  flat_type block       street_name storey_range  \\\n",
              "0      2019-01  ANG MO KIO     3 ROOM   330  ANG MO KIO AVE 1     01 TO 03   \n",
              "1      2019-01  ANG MO KIO     3 ROOM   215  ANG MO KIO AVE 1     04 TO 06   \n",
              "2      2019-01  ANG MO KIO     3 ROOM   225  ANG MO KIO AVE 1     07 TO 09   \n",
              "3      2019-01  ANG MO KIO     3 ROOM   225  ANG MO KIO AVE 1     01 TO 03   \n",
              "4      2019-01  ANG MO KIO     3 ROOM   333  ANG MO KIO AVE 1     01 TO 03   \n",
              "...        ...         ...        ...   ...               ...          ...   \n",
              "22199  2019-12      YISHUN  EXECUTIVE   326    YISHUN RING RD     04 TO 06   \n",
              "22200  2019-12      YISHUN  EXECUTIVE   326    YISHUN RING RD     07 TO 09   \n",
              "22201  2019-12      YISHUN  EXECUTIVE   608      YISHUN ST 61     01 TO 03   \n",
              "22202  2019-12      YISHUN  EXECUTIVE   604      YISHUN ST 61     10 TO 12   \n",
              "22203  2019-12      YISHUN  EXECUTIVE   877      YISHUN ST 81     07 TO 09   \n",
              "\n",
              "       floor_area_sqm      flat_model  lease_commence_date  \\\n",
              "0                68.0  New Generation                 1981   \n",
              "1                73.0  New Generation                 1976   \n",
              "2                67.0  New Generation                 1978   \n",
              "3                67.0  New Generation                 1978   \n",
              "4                68.0  New Generation                 1981   \n",
              "...               ...             ...                  ...   \n",
              "22199           142.0       Apartment                 1988   \n",
              "22200           146.0      Maisonette                 1988   \n",
              "22201           164.0       Apartment                 1992   \n",
              "22202           164.0       Apartment                 1992   \n",
              "22203           145.0      Maisonette                 1987   \n",
              "\n",
              "          remaining_lease  resale_price  \n",
              "0       61 years 01 month      270000.0  \n",
              "1      56 years 04 months      295000.0  \n",
              "2       58 years 01 month      270000.0  \n",
              "3                58 years      230000.0  \n",
              "4                61 years      262500.0  \n",
              "...                   ...           ...  \n",
              "22199  67 years 07 months      580000.0  \n",
              "22200  67 years 07 months      565000.0  \n",
              "22201  71 years 06 months      633000.0  \n",
              "22202  71 years 06 months      788888.0  \n",
              "22203   67 years 01 month      618000.0  \n",
              "\n",
              "[22204 rows x 11 columns]"
            ]
          },
          "execution_count": 11,
          "metadata": {},
          "output_type": "execute_result"
        }
      ],
      "source": [
        "df"
      ]
    },
    {
      "cell_type": "code",
      "execution_count": null,
      "metadata": {
        "colab": {
          "base_uri": "https://localhost:8080/"
        },
        "id": "j0m4tND3CXmC",
        "outputId": "3e795f15-74d1-4fea-dd90-db826e8310f5"
      },
      "outputs": [
        {
          "data": {
            "text/plain": [
              "Index(['month', 'town', 'flat_type', 'block', 'street_name', 'storey_range',\n",
              "       'floor_area_sqm', 'flat_model', 'lease_commence_date',\n",
              "       'remaining_lease', 'resale_price'],\n",
              "      dtype='object')"
            ]
          },
          "execution_count": 12,
          "metadata": {},
          "output_type": "execute_result"
        }
      ],
      "source": [
        "df.columns"
      ]
    },
    {
      "cell_type": "code",
      "execution_count": null,
      "metadata": {
        "colab": {
          "base_uri": "https://localhost:8080/"
        },
        "id": "EFfxJmCEEF8i",
        "outputId": "2dd54d6e-f734-496c-fa21-0cc0d2a3af1d"
      },
      "outputs": [
        {
          "data": {
            "text/plain": [
              "month                  False\n",
              "town                   False\n",
              "flat_type              False\n",
              "block                  False\n",
              "street_name            False\n",
              "storey_range           False\n",
              "floor_area_sqm         False\n",
              "flat_model             False\n",
              "lease_commence_date    False\n",
              "remaining_lease        False\n",
              "resale_price           False\n",
              "dtype: bool"
            ]
          },
          "execution_count": 13,
          "metadata": {},
          "output_type": "execute_result"
        }
      ],
      "source": [
        "df.isnull().any() #checking for missing data"
      ]
    },
    {
      "cell_type": "code",
      "execution_count": null,
      "metadata": {
        "id": "59qgUrrrEeJp"
      },
      "outputs": [],
      "source": [
        "df = df.loc[:,['town', 'flat_type','floor_area_sqm','flat_model', 'lease_commence_date','resale_price']] #setting the columns that we need"
      ]
    },
    {
      "cell_type": "code",
      "execution_count": null,
      "metadata": {
        "colab": {
          "base_uri": "https://localhost:8080/",
          "height": 419
        },
        "id": "XzT553ZYFMOp",
        "outputId": "815d0827-6471-4d0c-9644-2ff0f452e22e"
      },
      "outputs": [
        {
          "data": {
            "text/html": [
              "\n",
              "  <div id=\"df-d6c4a0b5-68e4-48e9-804a-d7cd366332fe\">\n",
              "    <div class=\"colab-df-container\">\n",
              "      <div>\n",
              "<style scoped>\n",
              "    .dataframe tbody tr th:only-of-type {\n",
              "        vertical-align: middle;\n",
              "    }\n",
              "\n",
              "    .dataframe tbody tr th {\n",
              "        vertical-align: top;\n",
              "    }\n",
              "\n",
              "    .dataframe thead th {\n",
              "        text-align: right;\n",
              "    }\n",
              "</style>\n",
              "<table border=\"1\" class=\"dataframe\">\n",
              "  <thead>\n",
              "    <tr style=\"text-align: right;\">\n",
              "      <th></th>\n",
              "      <th>town</th>\n",
              "      <th>flat_type</th>\n",
              "      <th>floor_area_sqm</th>\n",
              "      <th>flat_model</th>\n",
              "      <th>lease_commence_date</th>\n",
              "      <th>resale_price</th>\n",
              "    </tr>\n",
              "  </thead>\n",
              "  <tbody>\n",
              "    <tr>\n",
              "      <th>0</th>\n",
              "      <td>ANG MO KIO</td>\n",
              "      <td>3 ROOM</td>\n",
              "      <td>68.0</td>\n",
              "      <td>New Generation</td>\n",
              "      <td>1981</td>\n",
              "      <td>270000.0</td>\n",
              "    </tr>\n",
              "    <tr>\n",
              "      <th>1</th>\n",
              "      <td>ANG MO KIO</td>\n",
              "      <td>3 ROOM</td>\n",
              "      <td>73.0</td>\n",
              "      <td>New Generation</td>\n",
              "      <td>1976</td>\n",
              "      <td>295000.0</td>\n",
              "    </tr>\n",
              "    <tr>\n",
              "      <th>2</th>\n",
              "      <td>ANG MO KIO</td>\n",
              "      <td>3 ROOM</td>\n",
              "      <td>67.0</td>\n",
              "      <td>New Generation</td>\n",
              "      <td>1978</td>\n",
              "      <td>270000.0</td>\n",
              "    </tr>\n",
              "    <tr>\n",
              "      <th>3</th>\n",
              "      <td>ANG MO KIO</td>\n",
              "      <td>3 ROOM</td>\n",
              "      <td>67.0</td>\n",
              "      <td>New Generation</td>\n",
              "      <td>1978</td>\n",
              "      <td>230000.0</td>\n",
              "    </tr>\n",
              "    <tr>\n",
              "      <th>4</th>\n",
              "      <td>ANG MO KIO</td>\n",
              "      <td>3 ROOM</td>\n",
              "      <td>68.0</td>\n",
              "      <td>New Generation</td>\n",
              "      <td>1981</td>\n",
              "      <td>262500.0</td>\n",
              "    </tr>\n",
              "    <tr>\n",
              "      <th>...</th>\n",
              "      <td>...</td>\n",
              "      <td>...</td>\n",
              "      <td>...</td>\n",
              "      <td>...</td>\n",
              "      <td>...</td>\n",
              "      <td>...</td>\n",
              "    </tr>\n",
              "    <tr>\n",
              "      <th>22199</th>\n",
              "      <td>YISHUN</td>\n",
              "      <td>EXECUTIVE</td>\n",
              "      <td>142.0</td>\n",
              "      <td>Apartment</td>\n",
              "      <td>1988</td>\n",
              "      <td>580000.0</td>\n",
              "    </tr>\n",
              "    <tr>\n",
              "      <th>22200</th>\n",
              "      <td>YISHUN</td>\n",
              "      <td>EXECUTIVE</td>\n",
              "      <td>146.0</td>\n",
              "      <td>Maisonette</td>\n",
              "      <td>1988</td>\n",
              "      <td>565000.0</td>\n",
              "    </tr>\n",
              "    <tr>\n",
              "      <th>22201</th>\n",
              "      <td>YISHUN</td>\n",
              "      <td>EXECUTIVE</td>\n",
              "      <td>164.0</td>\n",
              "      <td>Apartment</td>\n",
              "      <td>1992</td>\n",
              "      <td>633000.0</td>\n",
              "    </tr>\n",
              "    <tr>\n",
              "      <th>22202</th>\n",
              "      <td>YISHUN</td>\n",
              "      <td>EXECUTIVE</td>\n",
              "      <td>164.0</td>\n",
              "      <td>Apartment</td>\n",
              "      <td>1992</td>\n",
              "      <td>788888.0</td>\n",
              "    </tr>\n",
              "    <tr>\n",
              "      <th>22203</th>\n",
              "      <td>YISHUN</td>\n",
              "      <td>EXECUTIVE</td>\n",
              "      <td>145.0</td>\n",
              "      <td>Maisonette</td>\n",
              "      <td>1987</td>\n",
              "      <td>618000.0</td>\n",
              "    </tr>\n",
              "  </tbody>\n",
              "</table>\n",
              "<p>22204 rows × 6 columns</p>\n",
              "</div>\n",
              "      <button class=\"colab-df-convert\" onclick=\"convertToInteractive('df-d6c4a0b5-68e4-48e9-804a-d7cd366332fe')\"\n",
              "              title=\"Convert this dataframe to an interactive table.\"\n",
              "              style=\"display:none;\">\n",
              "        \n",
              "  <svg xmlns=\"http://www.w3.org/2000/svg\" height=\"24px\"viewBox=\"0 0 24 24\"\n",
              "       width=\"24px\">\n",
              "    <path d=\"M0 0h24v24H0V0z\" fill=\"none\"/>\n",
              "    <path d=\"M18.56 5.44l.94 2.06.94-2.06 2.06-.94-2.06-.94-.94-2.06-.94 2.06-2.06.94zm-11 1L8.5 8.5l.94-2.06 2.06-.94-2.06-.94L8.5 2.5l-.94 2.06-2.06.94zm10 10l.94 2.06.94-2.06 2.06-.94-2.06-.94-.94-2.06-.94 2.06-2.06.94z\"/><path d=\"M17.41 7.96l-1.37-1.37c-.4-.4-.92-.59-1.43-.59-.52 0-1.04.2-1.43.59L10.3 9.45l-7.72 7.72c-.78.78-.78 2.05 0 2.83L4 21.41c.39.39.9.59 1.41.59.51 0 1.02-.2 1.41-.59l7.78-7.78 2.81-2.81c.8-.78.8-2.07 0-2.86zM5.41 20L4 18.59l7.72-7.72 1.47 1.35L5.41 20z\"/>\n",
              "  </svg>\n",
              "      </button>\n",
              "      \n",
              "  <style>\n",
              "    .colab-df-container {\n",
              "      display:flex;\n",
              "      flex-wrap:wrap;\n",
              "      gap: 12px;\n",
              "    }\n",
              "\n",
              "    .colab-df-convert {\n",
              "      background-color: #E8F0FE;\n",
              "      border: none;\n",
              "      border-radius: 50%;\n",
              "      cursor: pointer;\n",
              "      display: none;\n",
              "      fill: #1967D2;\n",
              "      height: 32px;\n",
              "      padding: 0 0 0 0;\n",
              "      width: 32px;\n",
              "    }\n",
              "\n",
              "    .colab-df-convert:hover {\n",
              "      background-color: #E2EBFA;\n",
              "      box-shadow: 0px 1px 2px rgba(60, 64, 67, 0.3), 0px 1px 3px 1px rgba(60, 64, 67, 0.15);\n",
              "      fill: #174EA6;\n",
              "    }\n",
              "\n",
              "    [theme=dark] .colab-df-convert {\n",
              "      background-color: #3B4455;\n",
              "      fill: #D2E3FC;\n",
              "    }\n",
              "\n",
              "    [theme=dark] .colab-df-convert:hover {\n",
              "      background-color: #434B5C;\n",
              "      box-shadow: 0px 1px 3px 1px rgba(0, 0, 0, 0.15);\n",
              "      filter: drop-shadow(0px 1px 2px rgba(0, 0, 0, 0.3));\n",
              "      fill: #FFFFFF;\n",
              "    }\n",
              "  </style>\n",
              "\n",
              "      <script>\n",
              "        const buttonEl =\n",
              "          document.querySelector('#df-d6c4a0b5-68e4-48e9-804a-d7cd366332fe button.colab-df-convert');\n",
              "        buttonEl.style.display =\n",
              "          google.colab.kernel.accessAllowed ? 'block' : 'none';\n",
              "\n",
              "        async function convertToInteractive(key) {\n",
              "          const element = document.querySelector('#df-d6c4a0b5-68e4-48e9-804a-d7cd366332fe');\n",
              "          const dataTable =\n",
              "            await google.colab.kernel.invokeFunction('convertToInteractive',\n",
              "                                                     [key], {});\n",
              "          if (!dataTable) return;\n",
              "\n",
              "          const docLinkHtml = 'Like what you see? Visit the ' +\n",
              "            '<a target=\"_blank\" href=https://colab.research.google.com/notebooks/data_table.ipynb>data table notebook</a>'\n",
              "            + ' to learn more about interactive tables.';\n",
              "          element.innerHTML = '';\n",
              "          dataTable['output_type'] = 'display_data';\n",
              "          await google.colab.output.renderOutput(dataTable, element);\n",
              "          const docLink = document.createElement('div');\n",
              "          docLink.innerHTML = docLinkHtml;\n",
              "          element.appendChild(docLink);\n",
              "        }\n",
              "      </script>\n",
              "    </div>\n",
              "  </div>\n",
              "  "
            ],
            "text/plain": [
              "             town  flat_type  floor_area_sqm      flat_model  \\\n",
              "0      ANG MO KIO     3 ROOM            68.0  New Generation   \n",
              "1      ANG MO KIO     3 ROOM            73.0  New Generation   \n",
              "2      ANG MO KIO     3 ROOM            67.0  New Generation   \n",
              "3      ANG MO KIO     3 ROOM            67.0  New Generation   \n",
              "4      ANG MO KIO     3 ROOM            68.0  New Generation   \n",
              "...           ...        ...             ...             ...   \n",
              "22199      YISHUN  EXECUTIVE           142.0       Apartment   \n",
              "22200      YISHUN  EXECUTIVE           146.0      Maisonette   \n",
              "22201      YISHUN  EXECUTIVE           164.0       Apartment   \n",
              "22202      YISHUN  EXECUTIVE           164.0       Apartment   \n",
              "22203      YISHUN  EXECUTIVE           145.0      Maisonette   \n",
              "\n",
              "       lease_commence_date  resale_price  \n",
              "0                     1981      270000.0  \n",
              "1                     1976      295000.0  \n",
              "2                     1978      270000.0  \n",
              "3                     1978      230000.0  \n",
              "4                     1981      262500.0  \n",
              "...                    ...           ...  \n",
              "22199                 1988      580000.0  \n",
              "22200                 1988      565000.0  \n",
              "22201                 1992      633000.0  \n",
              "22202                 1992      788888.0  \n",
              "22203                 1987      618000.0  \n",
              "\n",
              "[22204 rows x 6 columns]"
            ]
          },
          "execution_count": 15,
          "metadata": {},
          "output_type": "execute_result"
        }
      ],
      "source": [
        "df"
      ]
    },
    {
      "cell_type": "code",
      "execution_count": null,
      "metadata": {
        "colab": {
          "base_uri": "https://localhost:8080/",
          "height": 297
        },
        "id": "qk-NVusTFU-H",
        "outputId": "78bd57fc-182f-4895-91cb-787279f1854f"
      },
      "outputs": [
        {
          "data": {
            "text/html": [
              "\n",
              "  <div id=\"df-e9f5d5dd-61c1-4a22-952f-443f674ec403\">\n",
              "    <div class=\"colab-df-container\">\n",
              "      <div>\n",
              "<style scoped>\n",
              "    .dataframe tbody tr th:only-of-type {\n",
              "        vertical-align: middle;\n",
              "    }\n",
              "\n",
              "    .dataframe tbody tr th {\n",
              "        vertical-align: top;\n",
              "    }\n",
              "\n",
              "    .dataframe thead th {\n",
              "        text-align: right;\n",
              "    }\n",
              "</style>\n",
              "<table border=\"1\" class=\"dataframe\">\n",
              "  <thead>\n",
              "    <tr style=\"text-align: right;\">\n",
              "      <th></th>\n",
              "      <th>floor_area_sqm</th>\n",
              "      <th>lease_commence_date</th>\n",
              "      <th>resale_price</th>\n",
              "    </tr>\n",
              "  </thead>\n",
              "  <tbody>\n",
              "    <tr>\n",
              "      <th>count</th>\n",
              "      <td>22204.000000</td>\n",
              "      <td>22204.000000</td>\n",
              "      <td>2.220400e+04</td>\n",
              "    </tr>\n",
              "    <tr>\n",
              "      <th>mean</th>\n",
              "      <td>97.075545</td>\n",
              "      <td>1994.459827</td>\n",
              "      <td>4.320591e+05</td>\n",
              "    </tr>\n",
              "    <tr>\n",
              "      <th>std</th>\n",
              "      <td>24.356244</td>\n",
              "      <td>13.218726</td>\n",
              "      <td>1.539752e+05</td>\n",
              "    </tr>\n",
              "    <tr>\n",
              "      <th>min</th>\n",
              "      <td>31.000000</td>\n",
              "      <td>1966.000000</td>\n",
              "      <td>1.500000e+05</td>\n",
              "    </tr>\n",
              "    <tr>\n",
              "      <th>25%</th>\n",
              "      <td>77.000000</td>\n",
              "      <td>1984.000000</td>\n",
              "      <td>3.200000e+05</td>\n",
              "    </tr>\n",
              "    <tr>\n",
              "      <th>50%</th>\n",
              "      <td>94.000000</td>\n",
              "      <td>1994.000000</td>\n",
              "      <td>4.000000e+05</td>\n",
              "    </tr>\n",
              "    <tr>\n",
              "      <th>75%</th>\n",
              "      <td>112.000000</td>\n",
              "      <td>2004.000000</td>\n",
              "      <td>5.100000e+05</td>\n",
              "    </tr>\n",
              "    <tr>\n",
              "      <th>max</th>\n",
              "      <td>192.000000</td>\n",
              "      <td>2016.000000</td>\n",
              "      <td>1.205000e+06</td>\n",
              "    </tr>\n",
              "  </tbody>\n",
              "</table>\n",
              "</div>\n",
              "      <button class=\"colab-df-convert\" onclick=\"convertToInteractive('df-e9f5d5dd-61c1-4a22-952f-443f674ec403')\"\n",
              "              title=\"Convert this dataframe to an interactive table.\"\n",
              "              style=\"display:none;\">\n",
              "        \n",
              "  <svg xmlns=\"http://www.w3.org/2000/svg\" height=\"24px\"viewBox=\"0 0 24 24\"\n",
              "       width=\"24px\">\n",
              "    <path d=\"M0 0h24v24H0V0z\" fill=\"none\"/>\n",
              "    <path d=\"M18.56 5.44l.94 2.06.94-2.06 2.06-.94-2.06-.94-.94-2.06-.94 2.06-2.06.94zm-11 1L8.5 8.5l.94-2.06 2.06-.94-2.06-.94L8.5 2.5l-.94 2.06-2.06.94zm10 10l.94 2.06.94-2.06 2.06-.94-2.06-.94-.94-2.06-.94 2.06-2.06.94z\"/><path d=\"M17.41 7.96l-1.37-1.37c-.4-.4-.92-.59-1.43-.59-.52 0-1.04.2-1.43.59L10.3 9.45l-7.72 7.72c-.78.78-.78 2.05 0 2.83L4 21.41c.39.39.9.59 1.41.59.51 0 1.02-.2 1.41-.59l7.78-7.78 2.81-2.81c.8-.78.8-2.07 0-2.86zM5.41 20L4 18.59l7.72-7.72 1.47 1.35L5.41 20z\"/>\n",
              "  </svg>\n",
              "      </button>\n",
              "      \n",
              "  <style>\n",
              "    .colab-df-container {\n",
              "      display:flex;\n",
              "      flex-wrap:wrap;\n",
              "      gap: 12px;\n",
              "    }\n",
              "\n",
              "    .colab-df-convert {\n",
              "      background-color: #E8F0FE;\n",
              "      border: none;\n",
              "      border-radius: 50%;\n",
              "      cursor: pointer;\n",
              "      display: none;\n",
              "      fill: #1967D2;\n",
              "      height: 32px;\n",
              "      padding: 0 0 0 0;\n",
              "      width: 32px;\n",
              "    }\n",
              "\n",
              "    .colab-df-convert:hover {\n",
              "      background-color: #E2EBFA;\n",
              "      box-shadow: 0px 1px 2px rgba(60, 64, 67, 0.3), 0px 1px 3px 1px rgba(60, 64, 67, 0.15);\n",
              "      fill: #174EA6;\n",
              "    }\n",
              "\n",
              "    [theme=dark] .colab-df-convert {\n",
              "      background-color: #3B4455;\n",
              "      fill: #D2E3FC;\n",
              "    }\n",
              "\n",
              "    [theme=dark] .colab-df-convert:hover {\n",
              "      background-color: #434B5C;\n",
              "      box-shadow: 0px 1px 3px 1px rgba(0, 0, 0, 0.15);\n",
              "      filter: drop-shadow(0px 1px 2px rgba(0, 0, 0, 0.3));\n",
              "      fill: #FFFFFF;\n",
              "    }\n",
              "  </style>\n",
              "\n",
              "      <script>\n",
              "        const buttonEl =\n",
              "          document.querySelector('#df-e9f5d5dd-61c1-4a22-952f-443f674ec403 button.colab-df-convert');\n",
              "        buttonEl.style.display =\n",
              "          google.colab.kernel.accessAllowed ? 'block' : 'none';\n",
              "\n",
              "        async function convertToInteractive(key) {\n",
              "          const element = document.querySelector('#df-e9f5d5dd-61c1-4a22-952f-443f674ec403');\n",
              "          const dataTable =\n",
              "            await google.colab.kernel.invokeFunction('convertToInteractive',\n",
              "                                                     [key], {});\n",
              "          if (!dataTable) return;\n",
              "\n",
              "          const docLinkHtml = 'Like what you see? Visit the ' +\n",
              "            '<a target=\"_blank\" href=https://colab.research.google.com/notebooks/data_table.ipynb>data table notebook</a>'\n",
              "            + ' to learn more about interactive tables.';\n",
              "          element.innerHTML = '';\n",
              "          dataTable['output_type'] = 'display_data';\n",
              "          await google.colab.output.renderOutput(dataTable, element);\n",
              "          const docLink = document.createElement('div');\n",
              "          docLink.innerHTML = docLinkHtml;\n",
              "          element.appendChild(docLink);\n",
              "        }\n",
              "      </script>\n",
              "    </div>\n",
              "  </div>\n",
              "  "
            ],
            "text/plain": [
              "       floor_area_sqm  lease_commence_date  resale_price\n",
              "count    22204.000000         22204.000000  2.220400e+04\n",
              "mean        97.075545          1994.459827  4.320591e+05\n",
              "std         24.356244            13.218726  1.539752e+05\n",
              "min         31.000000          1966.000000  1.500000e+05\n",
              "25%         77.000000          1984.000000  3.200000e+05\n",
              "50%         94.000000          1994.000000  4.000000e+05\n",
              "75%        112.000000          2004.000000  5.100000e+05\n",
              "max        192.000000          2016.000000  1.205000e+06"
            ]
          },
          "execution_count": 16,
          "metadata": {},
          "output_type": "execute_result"
        }
      ],
      "source": [
        "df.describe()"
      ]
    },
    {
      "cell_type": "code",
      "execution_count": null,
      "metadata": {
        "id": "Xk8LQVVlINcq"
      },
      "outputs": [],
      "source": [
        "\n",
        "import seaborn as sns"
      ]
    },
    {
      "cell_type": "code",
      "execution_count": null,
      "metadata": {
        "colab": {
          "base_uri": "https://localhost:8080/",
          "height": 390
        },
        "id": "oLoT7uTRIN1K",
        "outputId": "ef3a2c74-3c4c-4925-d1b0-d101f6a9bf04"
      },
      "outputs": [
        {
          "data": {
            "text/plain": [
              "<matplotlib.axes._subplots.AxesSubplot at 0x7fa48ae53910>"
            ]
          },
          "execution_count": 18,
          "metadata": {},
          "output_type": "execute_result"
        },
        {
          "data": {
            "image/png": "[encoded data removed]",
            "text/plain": [
              "<Figure size 432x288 with 2 Axes>"
            ]
          },
          "metadata": {},
          "output_type": "display_data"
        }
      ],
      "source": [
        "sns.heatmap(df.corr()) #checking the correlation among the variables"
      ]
    },
    {
      "cell_type": "code",
      "execution_count": null,
      "metadata": {
        "colab": {
          "base_uri": "https://localhost:8080/",
          "height": 386
        },
        "id": "UekeH0IEIN9D",
        "outputId": "2a38199c-0511-4f97-9804-623f01456cf3"
      },
      "outputs": [
        {
          "data": {
            "text/plain": [
              "<seaborn.axisgrid.FacetGrid at 0x7fa488577410>"
            ]
          },
          "execution_count": 19,
          "metadata": {},
          "output_type": "execute_result"
        },
        {
          "data": {
            "image/png": "[encoded data removed]",
            "text/plain": [
              "<Figure size 360x360 with 1 Axes>"
            ]
          },
          "metadata": {},
          "output_type": "display_data"
        }
      ],
      "source": [
        "sns.catplot(data=df,x=\"resale_price\",y=\"floor_area_sqm\", kind=\"violin\")"
      ]
    },
    {
      "cell_type": "code",
      "execution_count": null,
      "metadata": {
        "id": "uItokBKzIOF9"
      },
      "outputs": [],
      "source": [
        "import matplotlib.pyplot as plt"
      ]
    },
    {
      "cell_type": "code",
      "execution_count": null,
      "metadata": {
        "colab": {
          "base_uri": "https://localhost:8080/",
          "height": 312
        },
        "id": "E9UBr4YDIOOA",
        "outputId": "ef47cd4d-accb-49fe-eb4b-5a98cca7c632"
      },
      "outputs": [
        {
          "data": {
            "text/plain": [
              "Text(0, 0.5, 'Floor ara')"
            ]
          },
          "execution_count": 21,
          "metadata": {},
          "output_type": "execute_result"
        },
        {
          "data": {
            "image/png": "[encoded data removed]",
            "text/plain": [
              "<Figure size 432x288 with 1 Axes>"
            ]
          },
          "metadata": {},
          "output_type": "display_data"
        }
      ],
      "source": [
        "m"
      ]
    },
    {
      "cell_type": "code",
      "execution_count": null,
      "metadata": {
        "id": "ShvHCNqU6Q3P"
      },
      "outputs": [],
      "source": [
        "dummy = pd.get_dummies(df[\"town\"]) #dummy for town"
      ]
    },
    {
      "cell_type": "code",
      "execution_count": null,
      "metadata": {
        "id": "z-8Lgwmt7Wxm"
      },
      "outputs": [],
      "source": [
        "df = df.merge(dummy,left_index=True,right_index=True).drop(columns=\"town\")"
      ]
    },
    {
      "cell_type": "code",
      "execution_count": null,
      "metadata": {
        "colab": {
          "base_uri": "https://localhost:8080/",
          "height": 602
        },
        "id": "vuBbS0Gz7iZK",
        "outputId": "488c88a5-6243-4b3f-d965-8d30cb1cf012"
      },
      "outputs": [
        {
          "data": {
            "text/html": [
              "\n",
              "  <div id=\"df-99c984b6-9e17-4260-9834-be4fa921dc9f\">\n",
              "    <div class=\"colab-df-container\">\n",
              "      <div>\n",
              "<style scoped>\n",
              "    .dataframe tbody tr th:only-of-type {\n",
              "        vertical-align: middle;\n",
              "    }\n",
              "\n",
              "    .dataframe tbody tr th {\n",
              "        vertical-align: top;\n",
              "    }\n",
              "\n",
              "    .dataframe thead th {\n",
              "        text-align: right;\n",
              "    }\n",
              "</style>\n",
              "<table border=\"1\" class=\"dataframe\">\n",
              "  <thead>\n",
              "    <tr style=\"text-align: right;\">\n",
              "      <th></th>\n",
              "      <th>flat_type</th>\n",
              "      <th>floor_area_sqm</th>\n",
              "      <th>flat_model</th>\n",
              "      <th>lease_commence_date</th>\n",
              "      <th>resale_price</th>\n",
              "      <th>ANG MO KIO</th>\n",
              "      <th>BEDOK</th>\n",
              "      <th>BISHAN</th>\n",
              "      <th>BUKIT BATOK</th>\n",
              "      <th>BUKIT MERAH</th>\n",
              "      <th>...</th>\n",
              "      <th>PASIR RIS</th>\n",
              "      <th>PUNGGOL</th>\n",
              "      <th>QUEENSTOWN</th>\n",
              "      <th>SEMBAWANG</th>\n",
              "      <th>SENGKANG</th>\n",
              "      <th>SERANGOON</th>\n",
              "      <th>TAMPINES</th>\n",
              "      <th>TOA PAYOH</th>\n",
              "      <th>WOODLANDS</th>\n",
              "      <th>YISHUN</th>\n",
              "    </tr>\n",
              "  </thead>\n",
              "  <tbody>\n",
              "    <tr>\n",
              "      <th>0</th>\n",
              "      <td>3 ROOM</td>\n",
              "      <td>68.0</td>\n",
              "      <td>New Generation</td>\n",
              "      <td>1981</td>\n",
              "      <td>270000.0</td>\n",
              "      <td>1</td>\n",
              "      <td>0</td>\n",
              "      <td>0</td>\n",
              "      <td>0</td>\n",
              "      <td>0</td>\n",
              "      <td>...</td>\n",
              "      <td>0</td>\n",
              "      <td>0</td>\n",
              "      <td>0</td>\n",
              "      <td>0</td>\n",
              "      <td>0</td>\n",
              "      <td>0</td>\n",
              "      <td>0</td>\n",
              "      <td>0</td>\n",
              "      <td>0</td>\n",
              "      <td>0</td>\n",
              "    </tr>\n",
              "    <tr>\n",
              "      <th>1</th>\n",
              "      <td>3 ROOM</td>\n",
              "      <td>73.0</td>\n",
              "      <td>New Generation</td>\n",
              "      <td>1976</td>\n",
              "      <td>295000.0</td>\n",
              "      <td>1</td>\n",
              "      <td>0</td>\n",
              "      <td>0</td>\n",
              "      <td>0</td>\n",
              "      <td>0</td>\n",
              "      <td>...</td>\n",
              "      <td>0</td>\n",
              "      <td>0</td>\n",
              "      <td>0</td>\n",
              "      <td>0</td>\n",
              "      <td>0</td>\n",
              "      <td>0</td>\n",
              "      <td>0</td>\n",
              "      <td>0</td>\n",
              "      <td>0</td>\n",
              "      <td>0</td>\n",
              "    </tr>\n",
              "    <tr>\n",
              "      <th>2</th>\n",
              "      <td>3 ROOM</td>\n",
              "      <td>67.0</td>\n",
              "      <td>New Generation</td>\n",
              "      <td>1978</td>\n",
              "      <td>270000.0</td>\n",
              "      <td>1</td>\n",
              "      <td>0</td>\n",
              "      <td>0</td>\n",
              "      <td>0</td>\n",
              "      <td>0</td>\n",
              "      <td>...</td>\n",
              "      <td>0</td>\n",
              "      <td>0</td>\n",
              "      <td>0</td>\n",
              "      <td>0</td>\n",
              "      <td>0</td>\n",
              "      <td>0</td>\n",
              "      <td>0</td>\n",
              "      <td>0</td>\n",
              "      <td>0</td>\n",
              "      <td>0</td>\n",
              "    </tr>\n",
              "    <tr>\n",
              "      <th>3</th>\n",
              "      <td>3 ROOM</td>\n",
              "      <td>67.0</td>\n",
              "      <td>New Generation</td>\n",
              "      <td>1978</td>\n",
              "      <td>230000.0</td>\n",
              "      <td>1</td>\n",
              "      <td>0</td>\n",
              "      <td>0</td>\n",
              "      <td>0</td>\n",
              "      <td>0</td>\n",
              "      <td>...</td>\n",
              "      <td>0</td>\n",
              "      <td>0</td>\n",
              "      <td>0</td>\n",
              "      <td>0</td>\n",
              "      <td>0</td>\n",
              "      <td>0</td>\n",
              "      <td>0</td>\n",
              "      <td>0</td>\n",
              "      <td>0</td>\n",
              "      <td>0</td>\n",
              "    </tr>\n",
              "    <tr>\n",
              "      <th>4</th>\n",
              "      <td>3 ROOM</td>\n",
              "      <td>68.0</td>\n",
              "      <td>New Generation</td>\n",
              "      <td>1981</td>\n",
              "      <td>262500.0</td>\n",
              "      <td>1</td>\n",
              "      <td>0</td>\n",
              "      <td>0</td>\n",
              "      <td>0</td>\n",
              "      <td>0</td>\n",
              "      <td>...</td>\n",
              "      <td>0</td>\n",
              "      <td>0</td>\n",
              "      <td>0</td>\n",
              "      <td>0</td>\n",
              "      <td>0</td>\n",
              "      <td>0</td>\n",
              "      <td>0</td>\n",
              "      <td>0</td>\n",
              "      <td>0</td>\n",
              "      <td>0</td>\n",
              "    </tr>\n",
              "    <tr>\n",
              "      <th>...</th>\n",
              "      <td>...</td>\n",
              "      <td>...</td>\n",
              "      <td>...</td>\n",
              "      <td>...</td>\n",
              "      <td>...</td>\n",
              "      <td>...</td>\n",
              "      <td>...</td>\n",
              "      <td>...</td>\n",
              "      <td>...</td>\n",
              "      <td>...</td>\n",
              "      <td>...</td>\n",
              "      <td>...</td>\n",
              "      <td>...</td>\n",
              "      <td>...</td>\n",
              "      <td>...</td>\n",
              "      <td>...</td>\n",
              "      <td>...</td>\n",
              "      <td>...</td>\n",
              "      <td>...</td>\n",
              "      <td>...</td>\n",
              "      <td>...</td>\n",
              "    </tr>\n",
              "    <tr>\n",
              "      <th>22199</th>\n",
              "      <td>EXECUTIVE</td>\n",
              "      <td>142.0</td>\n",
              "      <td>Apartment</td>\n",
              "      <td>1988</td>\n",
              "      <td>580000.0</td>\n",
              "      <td>0</td>\n",
              "      <td>0</td>\n",
              "      <td>0</td>\n",
              "      <td>0</td>\n",
              "      <td>0</td>\n",
              "      <td>...</td>\n",
              "      <td>0</td>\n",
              "      <td>0</td>\n",
              "      <td>0</td>\n",
              "      <td>0</td>\n",
              "      <td>0</td>\n",
              "      <td>0</td>\n",
              "      <td>0</td>\n",
              "      <td>0</td>\n",
              "      <td>0</td>\n",
              "      <td>1</td>\n",
              "    </tr>\n",
              "    <tr>\n",
              "      <th>22200</th>\n",
              "      <td>EXECUTIVE</td>\n",
              "      <td>146.0</td>\n",
              "      <td>Maisonette</td>\n",
              "      <td>1988</td>\n",
              "      <td>565000.0</td>\n",
              "      <td>0</td>\n",
              "      <td>0</td>\n",
              "      <td>0</td>\n",
              "      <td>0</td>\n",
              "      <td>0</td>\n",
              "      <td>...</td>\n",
              "      <td>0</td>\n",
              "      <td>0</td>\n",
              "      <td>0</td>\n",
              "      <td>0</td>\n",
              "      <td>0</td>\n",
              "      <td>0</td>\n",
              "      <td>0</td>\n",
              "      <td>0</td>\n",
              "      <td>0</td>\n",
              "      <td>1</td>\n",
              "    </tr>\n",
              "    <tr>\n",
              "      <th>22201</th>\n",
              "      <td>EXECUTIVE</td>\n",
              "      <td>164.0</td>\n",
              "      <td>Apartment</td>\n",
              "      <td>1992</td>\n",
              "      <td>633000.0</td>\n",
              "      <td>0</td>\n",
              "      <td>0</td>\n",
              "      <td>0</td>\n",
              "      <td>0</td>\n",
              "      <td>0</td>\n",
              "      <td>...</td>\n",
              "      <td>0</td>\n",
              "      <td>0</td>\n",
              "      <td>0</td>\n",
              "      <td>0</td>\n",
              "      <td>0</td>\n",
              "      <td>0</td>\n",
              "      <td>0</td>\n",
              "      <td>0</td>\n",
              "      <td>0</td>\n",
              "      <td>1</td>\n",
              "    </tr>\n",
              "    <tr>\n",
              "      <th>22202</th>\n",
              "      <td>EXECUTIVE</td>\n",
              "      <td>164.0</td>\n",
              "      <td>Apartment</td>\n",
              "      <td>1992</td>\n",
              "      <td>788888.0</td>\n",
              "      <td>0</td>\n",
              "      <td>0</td>\n",
              "      <td>0</td>\n",
              "      <td>0</td>\n",
              "      <td>0</td>\n",
              "      <td>...</td>\n",
              "      <td>0</td>\n",
              "      <td>0</td>\n",
              "      <td>0</td>\n",
              "      <td>0</td>\n",
              "      <td>0</td>\n",
              "      <td>0</td>\n",
              "      <td>0</td>\n",
              "      <td>0</td>\n",
              "      <td>0</td>\n",
              "      <td>1</td>\n",
              "    </tr>\n",
              "    <tr>\n",
              "      <th>22203</th>\n",
              "      <td>EXECUTIVE</td>\n",
              "      <td>145.0</td>\n",
              "      <td>Maisonette</td>\n",
              "      <td>1987</td>\n",
              "      <td>618000.0</td>\n",
              "      <td>0</td>\n",
              "      <td>0</td>\n",
              "      <td>0</td>\n",
              "      <td>0</td>\n",
              "      <td>0</td>\n",
              "      <td>...</td>\n",
              "      <td>0</td>\n",
              "      <td>0</td>\n",
              "      <td>0</td>\n",
              "      <td>0</td>\n",
              "      <td>0</td>\n",
              "      <td>0</td>\n",
              "      <td>0</td>\n",
              "      <td>0</td>\n",
              "      <td>0</td>\n",
              "      <td>1</td>\n",
              "    </tr>\n",
              "  </tbody>\n",
              "</table>\n",
              "<p>22204 rows × 31 columns</p>\n",
              "</div>\n",
              "      <button class=\"colab-df-convert\" onclick=\"convertToInteractive('df-99c984b6-9e17-4260-9834-be4fa921dc9f')\"\n",
              "              title=\"Convert this dataframe to an interactive table.\"\n",
              "              style=\"display:none;\">\n",
              "        \n",
              "  <svg xmlns=\"http://www.w3.org/2000/svg\" height=\"24px\"viewBox=\"0 0 24 24\"\n",
              "       width=\"24px\">\n",
              "    <path d=\"M0 0h24v24H0V0z\" fill=\"none\"/>\n",
              "    <path d=\"M18.56 5.44l.94 2.06.94-2.06 2.06-.94-2.06-.94-.94-2.06-.94 2.06-2.06.94zm-11 1L8.5 8.5l.94-2.06 2.06-.94-2.06-.94L8.5 2.5l-.94 2.06-2.06.94zm10 10l.94 2.06.94-2.06 2.06-.94-2.06-.94-.94-2.06-.94 2.06-2.06.94z\"/><path d=\"M17.41 7.96l-1.37-1.37c-.4-.4-.92-.59-1.43-.59-.52 0-1.04.2-1.43.59L10.3 9.45l-7.72 7.72c-.78.78-.78 2.05 0 2.83L4 21.41c.39.39.9.59 1.41.59.51 0 1.02-.2 1.41-.59l7.78-7.78 2.81-2.81c.8-.78.8-2.07 0-2.86zM5.41 20L4 18.59l7.72-7.72 1.47 1.35L5.41 20z\"/>\n",
              "  </svg>\n",
              "      </button>\n",
              "      \n",
              "  <style>\n",
              "    .colab-df-container {\n",
              "      display:flex;\n",
              "      flex-wrap:wrap;\n",
              "      gap: 12px;\n",
              "    }\n",
              "\n",
              "    .colab-df-convert {\n",
              "      background-color: #E8F0FE;\n",
              "      border: none;\n",
              "      border-radius: 50%;\n",
              "      cursor: pointer;\n",
              "      display: none;\n",
              "      fill: #1967D2;\n",
              "      height: 32px;\n",
              "      padding: 0 0 0 0;\n",
              "      width: 32px;\n",
              "    }\n",
              "\n",
              "    .colab-df-convert:hover {\n",
              "      background-color: #E2EBFA;\n",
              "      box-shadow: 0px 1px 2px rgba(60, 64, 67, 0.3), 0px 1px 3px 1px rgba(60, 64, 67, 0.15);\n",
              "      fill: #174EA6;\n",
              "    }\n",
              "\n",
              "    [theme=dark] .colab-df-convert {\n",
              "      background-color: #3B4455;\n",
              "      fill: #D2E3FC;\n",
              "    }\n",
              "\n",
              "    [theme=dark] .colab-df-convert:hover {\n",
              "      background-color: #434B5C;\n",
              "      box-shadow: 0px 1px 3px 1px rgba(0, 0, 0, 0.15);\n",
              "      filter: drop-shadow(0px 1px 2px rgba(0, 0, 0, 0.3));\n",
              "      fill: #FFFFFF;\n",
              "    }\n",
              "  </style>\n",
              "\n",
              "      <script>\n",
              "        const buttonEl =\n",
              "          document.querySelector('#df-99c984b6-9e17-4260-9834-be4fa921dc9f button.colab-df-convert');\n",
              "        buttonEl.style.display =\n",
              "          google.colab.kernel.accessAllowed ? 'block' : 'none';\n",
              "\n",
              "        async function convertToInteractive(key) {\n",
              "          const element = document.querySelector('#df-99c984b6-9e17-4260-9834-be4fa921dc9f');\n",
              "          const dataTable =\n",
              "            await google.colab.kernel.invokeFunction('convertToInteractive',\n",
              "                                                     [key], {});\n",
              "          if (!dataTable) return;\n",
              "\n",
              "          const docLinkHtml = 'Like what you see? Visit the ' +\n",
              "            '<a target=\"_blank\" href=https://colab.research.google.com/notebooks/data_table.ipynb>data table notebook</a>'\n",
              "            + ' to learn more about interactive tables.';\n",
              "          element.innerHTML = '';\n",
              "          dataTable['output_type'] = 'display_data';\n",
              "          await google.colab.output.renderOutput(dataTable, element);\n",
              "          const docLink = document.createElement('div');\n",
              "          docLink.innerHTML = docLinkHtml;\n",
              "          element.appendChild(docLink);\n",
              "        }\n",
              "      </script>\n",
              "    </div>\n",
              "  </div>\n",
              "  "
            ],
            "text/plain": [
              "       flat_type  floor_area_sqm      flat_model  lease_commence_date  \\\n",
              "0         3 ROOM            68.0  New Generation                 1981   \n",
              "1         3 ROOM            73.0  New Generation                 1976   \n",
              "2         3 ROOM            67.0  New Generation                 1978   \n",
              "3         3 ROOM            67.0  New Generation                 1978   \n",
              "4         3 ROOM            68.0  New Generation                 1981   \n",
              "...          ...             ...             ...                  ...   \n",
              "22199  EXECUTIVE           142.0       Apartment                 1988   \n",
              "22200  EXECUTIVE           146.0      Maisonette                 1988   \n",
              "22201  EXECUTIVE           164.0       Apartment                 1992   \n",
              "22202  EXECUTIVE           164.0       Apartment                 1992   \n",
              "22203  EXECUTIVE           145.0      Maisonette                 1987   \n",
              "\n",
              "       resale_price  ANG MO KIO  BEDOK  BISHAN  BUKIT BATOK  BUKIT MERAH  ...  \\\n",
              "0          270000.0           1      0       0            0            0  ...   \n",
              "1          295000.0           1      0       0            0            0  ...   \n",
              "2          270000.0           1      0       0            0            0  ...   \n",
              "3          230000.0           1      0       0            0            0  ...   \n",
              "4          262500.0           1      0       0            0            0  ...   \n",
              "...             ...         ...    ...     ...          ...          ...  ...   \n",
              "22199      580000.0           0      0       0            0            0  ...   \n",
              "22200      565000.0           0      0       0            0            0  ...   \n",
              "22201      633000.0           0      0       0            0            0  ...   \n",
              "22202      788888.0           0      0       0            0            0  ...   \n",
              "22203      618000.0           0      0       0            0            0  ...   \n",
              "\n",
              "       PASIR RIS  PUNGGOL  QUEENSTOWN  SEMBAWANG  SENGKANG  SERANGOON  \\\n",
              "0              0        0           0          0         0          0   \n",
              "1              0        0           0          0         0          0   \n",
              "2              0        0           0          0         0          0   \n",
              "3              0        0           0          0         0          0   \n",
              "4              0        0           0          0         0          0   \n",
              "...          ...      ...         ...        ...       ...        ...   \n",
              "22199          0        0           0          0         0          0   \n",
              "22200          0        0           0          0         0          0   \n",
              "22201          0        0           0          0         0          0   \n",
              "22202          0        0           0          0         0          0   \n",
              "22203          0        0           0          0         0          0   \n",
              "\n",
              "       TAMPINES  TOA PAYOH  WOODLANDS  YISHUN  \n",
              "0             0          0          0       0  \n",
              "1             0          0          0       0  \n",
              "2             0          0          0       0  \n",
              "3             0          0          0       0  \n",
              "4             0          0          0       0  \n",
              "...         ...        ...        ...     ...  \n",
              "22199         0          0          0       1  \n",
              "22200         0          0          0       1  \n",
              "22201         0          0          0       1  \n",
              "22202         0          0          0       1  \n",
              "22203         0          0          0       1  \n",
              "\n",
              "[22204 rows x 31 columns]"
            ]
          },
          "execution_count": 24,
          "metadata": {},
          "output_type": "execute_result"
        }
      ],
      "source": [
        "df"
      ]
    },
    {
      "cell_type": "code",
      "execution_count": null,
      "metadata": {
        "id": "MKDSkmk67xhM"
      },
      "outputs": [],
      "source": [
        "dummy = pd.get_dummies(df[\"flat_type\"]) #dummy for flat_type"
      ]
    },
    {
      "cell_type": "code",
      "execution_count": null,
      "metadata": {
        "id": "mJL0sEhp75A1"
      },
      "outputs": [],
      "source": [
        "df = df.merge(dummy,left_index=True,right_index=True).drop(columns=\"flat_type\")"
      ]
    },
    {
      "cell_type": "code",
      "execution_count": null,
      "metadata": {
        "id": "vc3XbNMV7__7"
      },
      "outputs": [],
      "source": [
        "dummy = pd.get_dummies(df[\"flat_model\"]) #dummy for flat_model"
      ]
    },
    {
      "cell_type": "code",
      "execution_count": null,
      "metadata": {
        "id": "OyBpUxdo8FCr"
      },
      "outputs": [],
      "source": [
        "df = df.merge(dummy,left_index=True,right_index=True).drop(columns=\"flat_model\")"
      ]
    },
    {
      "cell_type": "code",
      "execution_count": null,
      "metadata": {
        "colab": {
          "base_uri": "https://localhost:8080/",
          "height": 517
        },
        "id": "_ml4W4FW8Kj7",
        "outputId": "b5b106ac-2c1a-475e-9d9e-84812f24f974"
      },
      "outputs": [
        {
          "data": {
            "text/html": [
              "\n",
              "  <div id=\"df-6ac2e7ec-490c-4dc1-8f82-fac6539594e1\">\n",
              "    <div class=\"colab-df-container\">\n",
              "      <div>\n",
              "<style scoped>\n",
              "    .dataframe tbody tr th:only-of-type {\n",
              "        vertical-align: middle;\n",
              "    }\n",
              "\n",
              "    .dataframe tbody tr th {\n",
              "        vertical-align: top;\n",
              "    }\n",
              "\n",
              "    .dataframe thead th {\n",
              "        text-align: right;\n",
              "    }\n",
              "</style>\n",
              "<table border=\"1\" class=\"dataframe\">\n",
              "  <thead>\n",
              "    <tr style=\"text-align: right;\">\n",
              "      <th></th>\n",
              "      <th>floor_area_sqm</th>\n",
              "      <th>lease_commence_date</th>\n",
              "      <th>resale_price</th>\n",
              "      <th>ANG MO KIO</th>\n",
              "      <th>BEDOK</th>\n",
              "      <th>BISHAN</th>\n",
              "      <th>BUKIT BATOK</th>\n",
              "      <th>BUKIT MERAH</th>\n",
              "      <th>BUKIT PANJANG</th>\n",
              "      <th>BUKIT TIMAH</th>\n",
              "      <th>...</th>\n",
              "      <th>Multi Generation</th>\n",
              "      <th>New Generation</th>\n",
              "      <th>Premium Apartment</th>\n",
              "      <th>Premium Apartment Loft</th>\n",
              "      <th>Premium Maisonette</th>\n",
              "      <th>Simplified</th>\n",
              "      <th>Standard</th>\n",
              "      <th>Terrace</th>\n",
              "      <th>Type S1</th>\n",
              "      <th>Type S2</th>\n",
              "    </tr>\n",
              "  </thead>\n",
              "  <tbody>\n",
              "    <tr>\n",
              "      <th>0</th>\n",
              "      <td>68.0</td>\n",
              "      <td>1981</td>\n",
              "      <td>270000.0</td>\n",
              "      <td>1</td>\n",
              "      <td>0</td>\n",
              "      <td>0</td>\n",
              "      <td>0</td>\n",
              "      <td>0</td>\n",
              "      <td>0</td>\n",
              "      <td>0</td>\n",
              "      <td>...</td>\n",
              "      <td>0</td>\n",
              "      <td>1</td>\n",
              "      <td>0</td>\n",
              "      <td>0</td>\n",
              "      <td>0</td>\n",
              "      <td>0</td>\n",
              "      <td>0</td>\n",
              "      <td>0</td>\n",
              "      <td>0</td>\n",
              "      <td>0</td>\n",
              "    </tr>\n",
              "    <tr>\n",
              "      <th>1</th>\n",
              "      <td>73.0</td>\n",
              "      <td>1976</td>\n",
              "      <td>295000.0</td>\n",
              "      <td>1</td>\n",
              "      <td>0</td>\n",
              "      <td>0</td>\n",
              "      <td>0</td>\n",
              "      <td>0</td>\n",
              "      <td>0</td>\n",
              "      <td>0</td>\n",
              "      <td>...</td>\n",
              "      <td>0</td>\n",
              "      <td>1</td>\n",
              "      <td>0</td>\n",
              "      <td>0</td>\n",
              "      <td>0</td>\n",
              "      <td>0</td>\n",
              "      <td>0</td>\n",
              "      <td>0</td>\n",
              "      <td>0</td>\n",
              "      <td>0</td>\n",
              "    </tr>\n",
              "    <tr>\n",
              "      <th>2</th>\n",
              "      <td>67.0</td>\n",
              "      <td>1978</td>\n",
              "      <td>270000.0</td>\n",
              "      <td>1</td>\n",
              "      <td>0</td>\n",
              "      <td>0</td>\n",
              "      <td>0</td>\n",
              "      <td>0</td>\n",
              "      <td>0</td>\n",
              "      <td>0</td>\n",
              "      <td>...</td>\n",
              "      <td>0</td>\n",
              "      <td>1</td>\n",
              "      <td>0</td>\n",
              "      <td>0</td>\n",
              "      <td>0</td>\n",
              "      <td>0</td>\n",
              "      <td>0</td>\n",
              "      <td>0</td>\n",
              "      <td>0</td>\n",
              "      <td>0</td>\n",
              "    </tr>\n",
              "    <tr>\n",
              "      <th>3</th>\n",
              "      <td>67.0</td>\n",
              "      <td>1978</td>\n",
              "      <td>230000.0</td>\n",
              "      <td>1</td>\n",
              "      <td>0</td>\n",
              "      <td>0</td>\n",
              "      <td>0</td>\n",
              "      <td>0</td>\n",
              "      <td>0</td>\n",
              "      <td>0</td>\n",
              "      <td>...</td>\n",
              "      <td>0</td>\n",
              "      <td>1</td>\n",
              "      <td>0</td>\n",
              "      <td>0</td>\n",
              "      <td>0</td>\n",
              "      <td>0</td>\n",
              "      <td>0</td>\n",
              "      <td>0</td>\n",
              "      <td>0</td>\n",
              "      <td>0</td>\n",
              "    </tr>\n",
              "    <tr>\n",
              "      <th>4</th>\n",
              "      <td>68.0</td>\n",
              "      <td>1981</td>\n",
              "      <td>262500.0</td>\n",
              "      <td>1</td>\n",
              "      <td>0</td>\n",
              "      <td>0</td>\n",
              "      <td>0</td>\n",
              "      <td>0</td>\n",
              "      <td>0</td>\n",
              "      <td>0</td>\n",
              "      <td>...</td>\n",
              "      <td>0</td>\n",
              "      <td>1</td>\n",
              "      <td>0</td>\n",
              "      <td>0</td>\n",
              "      <td>0</td>\n",
              "      <td>0</td>\n",
              "      <td>0</td>\n",
              "      <td>0</td>\n",
              "      <td>0</td>\n",
              "      <td>0</td>\n",
              "    </tr>\n",
              "    <tr>\n",
              "      <th>...</th>\n",
              "      <td>...</td>\n",
              "      <td>...</td>\n",
              "      <td>...</td>\n",
              "      <td>...</td>\n",
              "      <td>...</td>\n",
              "      <td>...</td>\n",
              "      <td>...</td>\n",
              "      <td>...</td>\n",
              "      <td>...</td>\n",
              "      <td>...</td>\n",
              "      <td>...</td>\n",
              "      <td>...</td>\n",
              "      <td>...</td>\n",
              "      <td>...</td>\n",
              "      <td>...</td>\n",
              "      <td>...</td>\n",
              "      <td>...</td>\n",
              "      <td>...</td>\n",
              "      <td>...</td>\n",
              "      <td>...</td>\n",
              "      <td>...</td>\n",
              "    </tr>\n",
              "    <tr>\n",
              "      <th>22199</th>\n",
              "      <td>142.0</td>\n",
              "      <td>1988</td>\n",
              "      <td>580000.0</td>\n",
              "      <td>0</td>\n",
              "      <td>0</td>\n",
              "      <td>0</td>\n",
              "      <td>0</td>\n",
              "      <td>0</td>\n",
              "      <td>0</td>\n",
              "      <td>0</td>\n",
              "      <td>...</td>\n",
              "      <td>0</td>\n",
              "      <td>0</td>\n",
              "      <td>0</td>\n",
              "      <td>0</td>\n",
              "      <td>0</td>\n",
              "      <td>0</td>\n",
              "      <td>0</td>\n",
              "      <td>0</td>\n",
              "      <td>0</td>\n",
              "      <td>0</td>\n",
              "    </tr>\n",
              "    <tr>\n",
              "      <th>22200</th>\n",
              "      <td>146.0</td>\n",
              "      <td>1988</td>\n",
              "      <td>565000.0</td>\n",
              "      <td>0</td>\n",
              "      <td>0</td>\n",
              "      <td>0</td>\n",
              "      <td>0</td>\n",
              "      <td>0</td>\n",
              "      <td>0</td>\n",
              "      <td>0</td>\n",
              "      <td>...</td>\n",
              "      <td>0</td>\n",
              "      <td>0</td>\n",
              "      <td>0</td>\n",
              "      <td>0</td>\n",
              "      <td>0</td>\n",
              "      <td>0</td>\n",
              "      <td>0</td>\n",
              "      <td>0</td>\n",
              "      <td>0</td>\n",
              "      <td>0</td>\n",
              "    </tr>\n",
              "    <tr>\n",
              "      <th>22201</th>\n",
              "      <td>164.0</td>\n",
              "      <td>1992</td>\n",
              "      <td>633000.0</td>\n",
              "      <td>0</td>\n",
              "      <td>0</td>\n",
              "      <td>0</td>\n",
              "      <td>0</td>\n",
              "      <td>0</td>\n",
              "      <td>0</td>\n",
              "      <td>0</td>\n",
              "      <td>...</td>\n",
              "      <td>0</td>\n",
              "      <td>0</td>\n",
              "      <td>0</td>\n",
              "      <td>0</td>\n",
              "      <td>0</td>\n",
              "      <td>0</td>\n",
              "      <td>0</td>\n",
              "      <td>0</td>\n",
              "      <td>0</td>\n",
              "      <td>0</td>\n",
              "    </tr>\n",
              "    <tr>\n",
              "      <th>22202</th>\n",
              "      <td>164.0</td>\n",
              "      <td>1992</td>\n",
              "      <td>788888.0</td>\n",
              "      <td>0</td>\n",
              "      <td>0</td>\n",
              "      <td>0</td>\n",
              "      <td>0</td>\n",
              "      <td>0</td>\n",
              "      <td>0</td>\n",
              "      <td>0</td>\n",
              "      <td>...</td>\n",
              "      <td>0</td>\n",
              "      <td>0</td>\n",
              "      <td>0</td>\n",
              "      <td>0</td>\n",
              "      <td>0</td>\n",
              "      <td>0</td>\n",
              "      <td>0</td>\n",
              "      <td>0</td>\n",
              "      <td>0</td>\n",
              "      <td>0</td>\n",
              "    </tr>\n",
              "    <tr>\n",
              "      <th>22203</th>\n",
              "      <td>145.0</td>\n",
              "      <td>1987</td>\n",
              "      <td>618000.0</td>\n",
              "      <td>0</td>\n",
              "      <td>0</td>\n",
              "      <td>0</td>\n",
              "      <td>0</td>\n",
              "      <td>0</td>\n",
              "      <td>0</td>\n",
              "      <td>0</td>\n",
              "      <td>...</td>\n",
              "      <td>0</td>\n",
              "      <td>0</td>\n",
              "      <td>0</td>\n",
              "      <td>0</td>\n",
              "      <td>0</td>\n",
              "      <td>0</td>\n",
              "      <td>0</td>\n",
              "      <td>0</td>\n",
              "      <td>0</td>\n",
              "      <td>0</td>\n",
              "    </tr>\n",
              "  </tbody>\n",
              "</table>\n",
              "<p>22204 rows × 55 columns</p>\n",
              "</div>\n",
              "      <button class=\"colab-df-convert\" onclick=\"convertToInteractive('df-6ac2e7ec-490c-4dc1-8f82-fac6539594e1')\"\n",
              "              title=\"Convert this dataframe to an interactive table.\"\n",
              "              style=\"display:none;\">\n",
              "        \n",
              "  <svg xmlns=\"http://www.w3.org/2000/svg\" height=\"24px\"viewBox=\"0 0 24 24\"\n",
              "       width=\"24px\">\n",
              "    <path d=\"M0 0h24v24H0V0z\" fill=\"none\"/>\n",
              "    <path d=\"M18.56 5.44l.94 2.06.94-2.06 2.06-.94-2.06-.94-.94-2.06-.94 2.06-2.06.94zm-11 1L8.5 8.5l.94-2.06 2.06-.94-2.06-.94L8.5 2.5l-.94 2.06-2.06.94zm10 10l.94 2.06.94-2.06 2.06-.94-2.06-.94-.94-2.06-.94 2.06-2.06.94z\"/><path d=\"M17.41 7.96l-1.37-1.37c-.4-.4-.92-.59-1.43-.59-.52 0-1.04.2-1.43.59L10.3 9.45l-7.72 7.72c-.78.78-.78 2.05 0 2.83L4 21.41c.39.39.9.59 1.41.59.51 0 1.02-.2 1.41-.59l7.78-7.78 2.81-2.81c.8-.78.8-2.07 0-2.86zM5.41 20L4 18.59l7.72-7.72 1.47 1.35L5.41 20z\"/>\n",
              "  </svg>\n",
              "      </button>\n",
              "      \n",
              "  <style>\n",
              "    .colab-df-container {\n",
              "      display:flex;\n",
              "      flex-wrap:wrap;\n",
              "      gap: 12px;\n",
              "    }\n",
              "\n",
              "    .colab-df-convert {\n",
              "      background-color: #E8F0FE;\n",
              "      border: none;\n",
              "      border-radius: 50%;\n",
              "      cursor: pointer;\n",
              "      display: none;\n",
              "      fill: #1967D2;\n",
              "      height: 32px;\n",
              "      padding: 0 0 0 0;\n",
              "      width: 32px;\n",
              "    }\n",
              "\n",
              "    .colab-df-convert:hover {\n",
              "      background-color: #E2EBFA;\n",
              "      box-shadow: 0px 1px 2px rgba(60, 64, 67, 0.3), 0px 1px 3px 1px rgba(60, 64, 67, 0.15);\n",
              "      fill: #174EA6;\n",
              "    }\n",
              "\n",
              "    [theme=dark] .colab-df-convert {\n",
              "      background-color: #3B4455;\n",
              "      fill: #D2E3FC;\n",
              "    }\n",
              "\n",
              "    [theme=dark] .colab-df-convert:hover {\n",
              "      background-color: #434B5C;\n",
              "      box-shadow: 0px 1px 3px 1px rgba(0, 0, 0, 0.15);\n",
              "      filter: drop-shadow(0px 1px 2px rgba(0, 0, 0, 0.3));\n",
              "      fill: #FFFFFF;\n",
              "    }\n",
              "  </style>\n",
              "\n",
              "      <script>\n",
              "        const buttonEl =\n",
              "          document.querySelector('#df-6ac2e7ec-490c-4dc1-8f82-fac6539594e1 button.colab-df-convert');\n",
              "        buttonEl.style.display =\n",
              "          google.colab.kernel.accessAllowed ? 'block' : 'none';\n",
              "\n",
              "        async function convertToInteractive(key) {\n",
              "          const element = document.querySelector('#df-6ac2e7ec-490c-4dc1-8f82-fac6539594e1');\n",
              "          const dataTable =\n",
              "            await google.colab.kernel.invokeFunction('convertToInteractive',\n",
              "                                                     [key], {});\n",
              "          if (!dataTable) return;\n",
              "\n",
              "          const docLinkHtml = 'Like what you see? Visit the ' +\n",
              "            '<a target=\"_blank\" href=https://colab.research.google.com/notebooks/data_table.ipynb>data table notebook</a>'\n",
              "            + ' to learn more about interactive tables.';\n",
              "          element.innerHTML = '';\n",
              "          dataTable['output_type'] = 'display_data';\n",
              "          await google.colab.output.renderOutput(dataTable, element);\n",
              "          const docLink = document.createElement('div');\n",
              "          docLink.innerHTML = docLinkHtml;\n",
              "          element.appendChild(docLink);\n",
              "        }\n",
              "      </script>\n",
              "    </div>\n",
              "  </div>\n",
              "  "
            ],
            "text/plain": [
              "       floor_area_sqm  lease_commence_date  resale_price  ANG MO KIO  BEDOK  \\\n",
              "0                68.0                 1981      270000.0           1      0   \n",
              "1                73.0                 1976      295000.0           1      0   \n",
              "2                67.0                 1978      270000.0           1      0   \n",
              "3                67.0                 1978      230000.0           1      0   \n",
              "4                68.0                 1981      262500.0           1      0   \n",
              "...               ...                  ...           ...         ...    ...   \n",
              "22199           142.0                 1988      580000.0           0      0   \n",
              "22200           146.0                 1988      565000.0           0      0   \n",
              "22201           164.0                 1992      633000.0           0      0   \n",
              "22202           164.0                 1992      788888.0           0      0   \n",
              "22203           145.0                 1987      618000.0           0      0   \n",
              "\n",
              "       BISHAN  BUKIT BATOK  BUKIT MERAH  BUKIT PANJANG  BUKIT TIMAH  ...  \\\n",
              "0           0            0            0              0            0  ...   \n",
              "1           0            0            0              0            0  ...   \n",
              "2           0            0            0              0            0  ...   \n",
              "3           0            0            0              0            0  ...   \n",
              "4           0            0            0              0            0  ...   \n",
              "...       ...          ...          ...            ...          ...  ...   \n",
              "22199       0            0            0              0            0  ...   \n",
              "22200       0            0            0              0            0  ...   \n",
              "22201       0            0            0              0            0  ...   \n",
              "22202       0            0            0              0            0  ...   \n",
              "22203       0            0            0              0            0  ...   \n",
              "\n",
              "       Multi Generation  New Generation  Premium Apartment  \\\n",
              "0                     0               1                  0   \n",
              "1                     0               1                  0   \n",
              "2                     0               1                  0   \n",
              "3                     0               1                  0   \n",
              "4                     0               1                  0   \n",
              "...                 ...             ...                ...   \n",
              "22199                 0               0                  0   \n",
              "22200                 0               0                  0   \n",
              "22201                 0               0                  0   \n",
              "22202                 0               0                  0   \n",
              "22203                 0               0                  0   \n",
              "\n",
              "       Premium Apartment Loft  Premium Maisonette  Simplified  Standard  \\\n",
              "0                           0                   0           0         0   \n",
              "1                           0                   0           0         0   \n",
              "2                           0                   0           0         0   \n",
              "3                           0                   0           0         0   \n",
              "4                           0                   0           0         0   \n",
              "...                       ...                 ...         ...       ...   \n",
              "22199                       0                   0           0         0   \n",
              "22200                       0                   0           0         0   \n",
              "22201                       0                   0           0         0   \n",
              "22202                       0                   0           0         0   \n",
              "22203                       0                   0           0         0   \n",
              "\n",
              "       Terrace  Type S1  Type S2  \n",
              "0            0        0        0  \n",
              "1            0        0        0  \n",
              "2            0        0        0  \n",
              "3            0        0        0  \n",
              "4            0        0        0  \n",
              "...        ...      ...      ...  \n",
              "22199        0        0        0  \n",
              "22200        0        0        0  \n",
              "22201        0        0        0  \n",
              "22202        0        0        0  \n",
              "22203        0        0        0  \n",
              "\n",
              "[22204 rows x 55 columns]"
            ]
          },
          "execution_count": 29,
          "metadata": {},
          "output_type": "execute_result"
        }
      ],
      "source": [
        "df"
      ]
    },
    {
      "cell_type": "code",
      "execution_count": null,
      "metadata": {
        "id": "aZA3uP5Y8WvV"
      },
      "outputs": [],
      "source": [
        "\n",
        "from scipy import stats"
      ]
    },
    {
      "cell_type": "code",
      "execution_count": null,
      "metadata": {
        "id": "gt9-IOpg8rjs"
      },
      "outputs": [],
      "source": [
        "\n",
        "df['floor_area_sqm'] = stats.zscore(df[\"floor_area_sqm\"]) #normalising floor_area_sqm"
      ]
    },
    {
      "cell_type": "code",
      "execution_count": null,
      "metadata": {
        "colab": {
          "base_uri": "https://localhost:8080/",
          "height": 517
        },
        "id": "5FAbWFXq89eo",
        "outputId": "deafe91a-2fa1-4bef-e8fb-c5b1cc071650"
      },
      "outputs": [
        {
          "data": {
            "text/html": [
              "\n",
              "  <div id=\"df-9e76e50c-f605-4851-b212-4f54154ec4fc\">\n",
              "    <div class=\"colab-df-container\">\n",
              "      <div>\n",
              "<style scoped>\n",
              "    .dataframe tbody tr th:only-of-type {\n",
              "        vertical-align: middle;\n",
              "    }\n",
              "\n",
              "    .dataframe tbody tr th {\n",
              "        vertical-align: top;\n",
              "    }\n",
              "\n",
              "    .dataframe thead th {\n",
              "        text-align: right;\n",
              "    }\n",
              "</style>\n",
              "<table border=\"1\" class=\"dataframe\">\n",
              "  <thead>\n",
              "    <tr style=\"text-align: right;\">\n",
              "      <th></th>\n",
              "      <th>floor_area_sqm</th>\n",
              "      <th>lease_commence_date</th>\n",
              "      <th>resale_price</th>\n",
              "      <th>ANG MO KIO</th>\n",
              "      <th>BEDOK</th>\n",
              "      <th>BISHAN</th>\n",
              "      <th>BUKIT BATOK</th>\n",
              "      <th>BUKIT MERAH</th>\n",
              "      <th>BUKIT PANJANG</th>\n",
              "      <th>BUKIT TIMAH</th>\n",
              "      <th>...</th>\n",
              "      <th>Multi Generation</th>\n",
              "      <th>New Generation</th>\n",
              "      <th>Premium Apartment</th>\n",
              "      <th>Premium Apartment Loft</th>\n",
              "      <th>Premium Maisonette</th>\n",
              "      <th>Simplified</th>\n",
              "      <th>Standard</th>\n",
              "      <th>Terrace</th>\n",
              "      <th>Type S1</th>\n",
              "      <th>Type S2</th>\n",
              "    </tr>\n",
              "  </thead>\n",
              "  <tbody>\n",
              "    <tr>\n",
              "      <th>0</th>\n",
              "      <td>-1.193788</td>\n",
              "      <td>1981</td>\n",
              "      <td>270000.0</td>\n",
              "      <td>1</td>\n",
              "      <td>0</td>\n",
              "      <td>0</td>\n",
              "      <td>0</td>\n",
              "      <td>0</td>\n",
              "      <td>0</td>\n",
              "      <td>0</td>\n",
              "      <td>...</td>\n",
              "      <td>0</td>\n",
              "      <td>1</td>\n",
              "      <td>0</td>\n",
              "      <td>0</td>\n",
              "      <td>0</td>\n",
              "      <td>0</td>\n",
              "      <td>0</td>\n",
              "      <td>0</td>\n",
              "      <td>0</td>\n",
              "      <td>0</td>\n",
              "    </tr>\n",
              "    <tr>\n",
              "      <th>1</th>\n",
              "      <td>-0.988498</td>\n",
              "      <td>1976</td>\n",
              "      <td>295000.0</td>\n",
              "      <td>1</td>\n",
              "      <td>0</td>\n",
              "      <td>0</td>\n",
              "      <td>0</td>\n",
              "      <td>0</td>\n",
              "      <td>0</td>\n",
              "      <td>0</td>\n",
              "      <td>...</td>\n",
              "      <td>0</td>\n",
              "      <td>1</td>\n",
              "      <td>0</td>\n",
              "      <td>0</td>\n",
              "      <td>0</td>\n",
              "      <td>0</td>\n",
              "      <td>0</td>\n",
              "      <td>0</td>\n",
              "      <td>0</td>\n",
              "      <td>0</td>\n",
              "    </tr>\n",
              "    <tr>\n",
              "      <th>2</th>\n",
              "      <td>-1.234846</td>\n",
              "      <td>1978</td>\n",
              "      <td>270000.0</td>\n",
              "      <td>1</td>\n",
              "      <td>0</td>\n",
              "      <td>0</td>\n",
              "      <td>0</td>\n",
              "      <td>0</td>\n",
              "      <td>0</td>\n",
              "      <td>0</td>\n",
              "      <td>...</td>\n",
              "      <td>0</td>\n",
              "      <td>1</td>\n",
              "      <td>0</td>\n",
              "      <td>0</td>\n",
              "      <td>0</td>\n",
              "      <td>0</td>\n",
              "      <td>0</td>\n",
              "      <td>0</td>\n",
              "      <td>0</td>\n",
              "      <td>0</td>\n",
              "    </tr>\n",
              "    <tr>\n",
              "      <th>3</th>\n",
              "      <td>-1.234846</td>\n",
              "      <td>1978</td>\n",
              "      <td>230000.0</td>\n",
              "      <td>1</td>\n",
              "      <td>0</td>\n",
              "      <td>0</td>\n",
              "      <td>0</td>\n",
              "      <td>0</td>\n",
              "      <td>0</td>\n",
              "      <td>0</td>\n",
              "      <td>...</td>\n",
              "      <td>0</td>\n",
              "      <td>1</td>\n",
              "      <td>0</td>\n",
              "      <td>0</td>\n",
              "      <td>0</td>\n",
              "      <td>0</td>\n",
              "      <td>0</td>\n",
              "      <td>0</td>\n",
              "      <td>0</td>\n",
              "      <td>0</td>\n",
              "    </tr>\n",
              "    <tr>\n",
              "      <th>4</th>\n",
              "      <td>-1.193788</td>\n",
              "      <td>1981</td>\n",
              "      <td>262500.0</td>\n",
              "      <td>1</td>\n",
              "      <td>0</td>\n",
              "      <td>0</td>\n",
              "      <td>0</td>\n",
              "      <td>0</td>\n",
              "      <td>0</td>\n",
              "      <td>0</td>\n",
              "      <td>...</td>\n",
              "      <td>0</td>\n",
              "      <td>1</td>\n",
              "      <td>0</td>\n",
              "      <td>0</td>\n",
              "      <td>0</td>\n",
              "      <td>0</td>\n",
              "      <td>0</td>\n",
              "      <td>0</td>\n",
              "      <td>0</td>\n",
              "      <td>0</td>\n",
              "    </tr>\n",
              "    <tr>\n",
              "      <th>...</th>\n",
              "      <td>...</td>\n",
              "      <td>...</td>\n",
              "      <td>...</td>\n",
              "      <td>...</td>\n",
              "      <td>...</td>\n",
              "      <td>...</td>\n",
              "      <td>...</td>\n",
              "      <td>...</td>\n",
              "      <td>...</td>\n",
              "      <td>...</td>\n",
              "      <td>...</td>\n",
              "      <td>...</td>\n",
              "      <td>...</td>\n",
              "      <td>...</td>\n",
              "      <td>...</td>\n",
              "      <td>...</td>\n",
              "      <td>...</td>\n",
              "      <td>...</td>\n",
              "      <td>...</td>\n",
              "      <td>...</td>\n",
              "      <td>...</td>\n",
              "    </tr>\n",
              "    <tr>\n",
              "      <th>22199</th>\n",
              "      <td>1.844515</td>\n",
              "      <td>1988</td>\n",
              "      <td>580000.0</td>\n",
              "      <td>0</td>\n",
              "      <td>0</td>\n",
              "      <td>0</td>\n",
              "      <td>0</td>\n",
              "      <td>0</td>\n",
              "      <td>0</td>\n",
              "      <td>0</td>\n",
              "      <td>...</td>\n",
              "      <td>0</td>\n",
              "      <td>0</td>\n",
              "      <td>0</td>\n",
              "      <td>0</td>\n",
              "      <td>0</td>\n",
              "      <td>0</td>\n",
              "      <td>0</td>\n",
              "      <td>0</td>\n",
              "      <td>0</td>\n",
              "      <td>0</td>\n",
              "    </tr>\n",
              "    <tr>\n",
              "      <th>22200</th>\n",
              "      <td>2.008748</td>\n",
              "      <td>1988</td>\n",
              "      <td>565000.0</td>\n",
              "      <td>0</td>\n",
              "      <td>0</td>\n",
              "      <td>0</td>\n",
              "      <td>0</td>\n",
              "      <td>0</td>\n",
              "      <td>0</td>\n",
              "      <td>0</td>\n",
              "      <td>...</td>\n",
              "      <td>0</td>\n",
              "      <td>0</td>\n",
              "      <td>0</td>\n",
              "      <td>0</td>\n",
              "      <td>0</td>\n",
              "      <td>0</td>\n",
              "      <td>0</td>\n",
              "      <td>0</td>\n",
              "      <td>0</td>\n",
              "      <td>0</td>\n",
              "    </tr>\n",
              "    <tr>\n",
              "      <th>22201</th>\n",
              "      <td>2.747795</td>\n",
              "      <td>1992</td>\n",
              "      <td>633000.0</td>\n",
              "      <td>0</td>\n",
              "      <td>0</td>\n",
              "      <td>0</td>\n",
              "      <td>0</td>\n",
              "      <td>0</td>\n",
              "      <td>0</td>\n",
              "      <td>0</td>\n",
              "      <td>...</td>\n",
              "      <td>0</td>\n",
              "      <td>0</td>\n",
              "      <td>0</td>\n",
              "      <td>0</td>\n",
              "      <td>0</td>\n",
              "      <td>0</td>\n",
              "      <td>0</td>\n",
              "      <td>0</td>\n",
              "      <td>0</td>\n",
              "      <td>0</td>\n",
              "    </tr>\n",
              "    <tr>\n",
              "      <th>22202</th>\n",
              "      <td>2.747795</td>\n",
              "      <td>1992</td>\n",
              "      <td>788888.0</td>\n",
              "      <td>0</td>\n",
              "      <td>0</td>\n",
              "      <td>0</td>\n",
              "      <td>0</td>\n",
              "      <td>0</td>\n",
              "      <td>0</td>\n",
              "      <td>0</td>\n",
              "      <td>...</td>\n",
              "      <td>0</td>\n",
              "      <td>0</td>\n",
              "      <td>0</td>\n",
              "      <td>0</td>\n",
              "      <td>0</td>\n",
              "      <td>0</td>\n",
              "      <td>0</td>\n",
              "      <td>0</td>\n",
              "      <td>0</td>\n",
              "      <td>0</td>\n",
              "    </tr>\n",
              "    <tr>\n",
              "      <th>22203</th>\n",
              "      <td>1.967690</td>\n",
              "      <td>1987</td>\n",
              "      <td>618000.0</td>\n",
              "      <td>0</td>\n",
              "      <td>0</td>\n",
              "      <td>0</td>\n",
              "      <td>0</td>\n",
              "      <td>0</td>\n",
              "      <td>0</td>\n",
              "      <td>0</td>\n",
              "      <td>...</td>\n",
              "      <td>0</td>\n",
              "      <td>0</td>\n",
              "      <td>0</td>\n",
              "      <td>0</td>\n",
              "      <td>0</td>\n",
              "      <td>0</td>\n",
              "      <td>0</td>\n",
              "      <td>0</td>\n",
              "      <td>0</td>\n",
              "      <td>0</td>\n",
              "    </tr>\n",
              "  </tbody>\n",
              "</table>\n",
              "<p>22204 rows × 55 columns</p>\n",
              "</div>\n",
              "      <button class=\"colab-df-convert\" onclick=\"convertToInteractive('df-9e76e50c-f605-4851-b212-4f54154ec4fc')\"\n",
              "              title=\"Convert this dataframe to an interactive table.\"\n",
              "              style=\"display:none;\">\n",
              "        \n",
              "  <svg xmlns=\"http://www.w3.org/2000/svg\" height=\"24px\"viewBox=\"0 0 24 24\"\n",
              "       width=\"24px\">\n",
              "    <path d=\"M0 0h24v24H0V0z\" fill=\"none\"/>\n",
              "    <path d=\"M18.56 5.44l.94 2.06.94-2.06 2.06-.94-2.06-.94-.94-2.06-.94 2.06-2.06.94zm-11 1L8.5 8.5l.94-2.06 2.06-.94-2.06-.94L8.5 2.5l-.94 2.06-2.06.94zm10 10l.94 2.06.94-2.06 2.06-.94-2.06-.94-.94-2.06-.94 2.06-2.06.94z\"/><path d=\"M17.41 7.96l-1.37-1.37c-.4-.4-.92-.59-1.43-.59-.52 0-1.04.2-1.43.59L10.3 9.45l-7.72 7.72c-.78.78-.78 2.05 0 2.83L4 21.41c.39.39.9.59 1.41.59.51 0 1.02-.2 1.41-.59l7.78-7.78 2.81-2.81c.8-.78.8-2.07 0-2.86zM5.41 20L4 18.59l7.72-7.72 1.47 1.35L5.41 20z\"/>\n",
              "  </svg>\n",
              "      </button>\n",
              "      \n",
              "  <style>\n",
              "    .colab-df-container {\n",
              "      display:flex;\n",
              "      flex-wrap:wrap;\n",
              "      gap: 12px;\n",
              "    }\n",
              "\n",
              "    .colab-df-convert {\n",
              "      background-color: #E8F0FE;\n",
              "      border: none;\n",
              "      border-radius: 50%;\n",
              "      cursor: pointer;\n",
              "      display: none;\n",
              "      fill: #1967D2;\n",
              "      height: 32px;\n",
              "      padding: 0 0 0 0;\n",
              "      width: 32px;\n",
              "    }\n",
              "\n",
              "    .colab-df-convert:hover {\n",
              "      background-color: #E2EBFA;\n",
              "      box-shadow: 0px 1px 2px rgba(60, 64, 67, 0.3), 0px 1px 3px 1px rgba(60, 64, 67, 0.15);\n",
              "      fill: #174EA6;\n",
              "    }\n",
              "\n",
              "    [theme=dark] .colab-df-convert {\n",
              "      background-color: #3B4455;\n",
              "      fill: #D2E3FC;\n",
              "    }\n",
              "\n",
              "    [theme=dark] .colab-df-convert:hover {\n",
              "      background-color: #434B5C;\n",
              "      box-shadow: 0px 1px 3px 1px rgba(0, 0, 0, 0.15);\n",
              "      filter: drop-shadow(0px 1px 2px rgba(0, 0, 0, 0.3));\n",
              "      fill: #FFFFFF;\n",
              "    }\n",
              "  </style>\n",
              "\n",
              "      <script>\n",
              "        const buttonEl =\n",
              "          document.querySelector('#df-9e76e50c-f605-4851-b212-4f54154ec4fc button.colab-df-convert');\n",
              "        buttonEl.style.display =\n",
              "          google.colab.kernel.accessAllowed ? 'block' : 'none';\n",
              "\n",
              "        async function convertToInteractive(key) {\n",
              "          const element = document.querySelector('#df-9e76e50c-f605-4851-b212-4f54154ec4fc');\n",
              "          const dataTable =\n",
              "            await google.colab.kernel.invokeFunction('convertToInteractive',\n",
              "                                                     [key], {});\n",
              "          if (!dataTable) return;\n",
              "\n",
              "          const docLinkHtml = 'Like what you see? Visit the ' +\n",
              "            '<a target=\"_blank\" href=https://colab.research.google.com/notebooks/data_table.ipynb>data table notebook</a>'\n",
              "            + ' to learn more about interactive tables.';\n",
              "          element.innerHTML = '';\n",
              "          dataTable['output_type'] = 'display_data';\n",
              "          await google.colab.output.renderOutput(dataTable, element);\n",
              "          const docLink = document.createElement('div');\n",
              "          docLink.innerHTML = docLinkHtml;\n",
              "          element.appendChild(docLink);\n",
              "        }\n",
              "      </script>\n",
              "    </div>\n",
              "  </div>\n",
              "  "
            ],
            "text/plain": [
              "       floor_area_sqm  lease_commence_date  resale_price  ANG MO KIO  BEDOK  \\\n",
              "0           -1.193788                 1981      270000.0           1      0   \n",
              "1           -0.988498                 1976      295000.0           1      0   \n",
              "2           -1.234846                 1978      270000.0           1      0   \n",
              "3           -1.234846                 1978      230000.0           1      0   \n",
              "4           -1.193788                 1981      262500.0           1      0   \n",
              "...               ...                  ...           ...         ...    ...   \n",
              "22199        1.844515                 1988      580000.0           0      0   \n",
              "22200        2.008748                 1988      565000.0           0      0   \n",
              "22201        2.747795                 1992      633000.0           0      0   \n",
              "22202        2.747795                 1992      788888.0           0      0   \n",
              "22203        1.967690                 1987      618000.0           0      0   \n",
              "\n",
              "       BISHAN  BUKIT BATOK  BUKIT MERAH  BUKIT PANJANG  BUKIT TIMAH  ...  \\\n",
              "0           0            0            0              0            0  ...   \n",
              "1           0            0            0              0            0  ...   \n",
              "2           0            0            0              0            0  ...   \n",
              "3           0            0            0              0            0  ...   \n",
              "4           0            0            0              0            0  ...   \n",
              "...       ...          ...          ...            ...          ...  ...   \n",
              "22199       0            0            0              0            0  ...   \n",
              "22200       0            0            0              0            0  ...   \n",
              "22201       0            0            0              0            0  ...   \n",
              "22202       0            0            0              0            0  ...   \n",
              "22203       0            0            0              0            0  ...   \n",
              "\n",
              "       Multi Generation  New Generation  Premium Apartment  \\\n",
              "0                     0               1                  0   \n",
              "1                     0               1                  0   \n",
              "2                     0               1                  0   \n",
              "3                     0               1                  0   \n",
              "4                     0               1                  0   \n",
              "...                 ...             ...                ...   \n",
              "22199                 0               0                  0   \n",
              "22200                 0               0                  0   \n",
              "22201                 0               0                  0   \n",
              "22202                 0               0                  0   \n",
              "22203                 0               0                  0   \n",
              "\n",
              "       Premium Apartment Loft  Premium Maisonette  Simplified  Standard  \\\n",
              "0                           0                   0           0         0   \n",
              "1                           0                   0           0         0   \n",
              "2                           0                   0           0         0   \n",
              "3                           0                   0           0         0   \n",
              "4                           0                   0           0         0   \n",
              "...                       ...                 ...         ...       ...   \n",
              "22199                       0                   0           0         0   \n",
              "22200                       0                   0           0         0   \n",
              "22201                       0                   0           0         0   \n",
              "22202                       0                   0           0         0   \n",
              "22203                       0                   0           0         0   \n",
              "\n",
              "       Terrace  Type S1  Type S2  \n",
              "0            0        0        0  \n",
              "1            0        0        0  \n",
              "2            0        0        0  \n",
              "3            0        0        0  \n",
              "4            0        0        0  \n",
              "...        ...      ...      ...  \n",
              "22199        0        0        0  \n",
              "22200        0        0        0  \n",
              "22201        0        0        0  \n",
              "22202        0        0        0  \n",
              "22203        0        0        0  \n",
              "\n",
              "[22204 rows x 55 columns]"
            ]
          },
          "execution_count": 32,
          "metadata": {},
          "output_type": "execute_result"
        }
      ],
      "source": [
        "df"
      ]
    },
    {
      "cell_type": "code",
      "execution_count": null,
      "metadata": {
        "id": "G1myEonG8-fO"
      },
      "outputs": [],
      "source": [
        "X = df.drop(columns = \"resale_price\")\n",
        "Y = df[\"resale_price\"]"
      ]
    },
    {
      "cell_type": "code",
      "execution_count": null,
      "metadata": {
        "id": "DmZiCx9r9pF8"
      },
      "outputs": [],
      "source": [
        "from sklearn.model_selection import train_test_split"
      ]
    },
    {
      "cell_type": "code",
      "execution_count": null,
      "metadata": {
        "id": "RbVd8jOR91w6"
      },
      "outputs": [],
      "source": [
        "X_train, X_test, Y_train, Y_test = train_test_split(X,Y,random_state = 1)"
      ]
    },
    {
      "cell_type": "code",
      "execution_count": null,
      "metadata": {
        "colab": {
          "base_uri": "https://localhost:8080/"
        },
        "id": "uUO69XuQ_JIS",
        "outputId": "9e3a234b-a2c3-4bc6-f8e0-93533b7247e8"
      },
      "outputs": [
        {
          "data": {
            "text/plain": [
              "380000.0    228\n",
              "320000.0    219\n",
              "450000.0    213\n",
              "420000.0    212\n",
              "400000.0    212\n",
              "           ... \n",
              "693800.0      1\n",
              "198888.0      1\n",
              "938000.0      1\n",
              "437500.0      1\n",
              "246800.0      1\n",
              "Name: resale_price, Length: 1289, dtype: int64"
            ]
          },
          "execution_count": 36,
          "metadata": {},
          "output_type": "execute_result"
        }
      ],
      "source": [
        "Y_train.value_counts()"
      ]
    },
    {
      "cell_type": "code",
      "execution_count": null,
      "metadata": {
        "id": "JZhUGYNDA-dd"
      },
      "outputs": [],
      "source": [
        "from sklearn.metrics import mean_squared_error"
      ]
    },
    {
      "cell_type": "code",
      "execution_count": null,
      "metadata": {
        "id": "A6kPaRYHBmNl"
      },
      "outputs": [],
      "source": [
        "from sklearn import linear_model"
      ]
    },
    {
      "cell_type": "code",
      "execution_count": null,
      "metadata": {
        "id": "Eo_h-_25Bsie"
      },
      "outputs": [],
      "source": [
        "model = linear_model.LinearRegression()"
      ]
    },
    {
      "cell_type": "code",
      "execution_count": null,
      "metadata": {
        "colab": {
          "base_uri": "https://localhost:8080/"
        },
        "id": "gMLj8JySB_97",
        "outputId": "816897c5-3ac5-42a6-868a-b1c63aece017"
      },
      "outputs": [
        {
          "name": "stdout",
          "output_type": "stream",
          "text": [
            "rmse is 62455.431314234214\n"
          ]
        }
      ],
      "source": [
        "model.fit(X_train,Y_train)\n",
        "pred = model.predict(X_test)\n",
        "rmse = mean_squared_error(Y_test,pred)**0.5\n",
        "print(\"rmse is\", rmse)"
      ]
    },
    {
      "cell_type": "code",
      "execution_count": null,
      "metadata": {
        "id": "twG9kDiTCb6z"
      },
      "outputs": [],
      "source": [
        "from sklearn import tree"
      ]
    },
    {
      "cell_type": "code",
      "execution_count": null,
      "metadata": {
        "id": "3Vp6VBbVC-Mh"
      },
      "outputs": [],
      "source": [
        "model = tree.DecisionTreeRegressor(random_state=1)"
      ]
    },
    {
      "cell_type": "code",
      "execution_count": null,
      "metadata": {
        "colab": {
          "base_uri": "https://localhost:8080/"
        },
        "id": "b_61i9ynDGAg",
        "outputId": "b478822e-ab9b-4fc2-cb94-bb470868dfc2"
      },
      "outputs": [
        {
          "name": "stdout",
          "output_type": "stream",
          "text": [
            "rmse is 43711.16010257397\n"
          ]
        }
      ],
      "source": [
        "model.fit(X_train,Y_train)\n",
        "pred = model.predict(X_test)\n",
        "rmse = mean_squared_error(Y_test,pred)**0.5\n",
        "print(\"rmse is\", rmse)"
      ]
    },
    {
      "cell_type": "code",
      "execution_count": null,
      "metadata": {
        "id": "olpkp65uDIrp"
      },
      "outputs": [],
      "source": [
        "from sklearn import ensemble"
      ]
    },
    {
      "cell_type": "code",
      "execution_count": null,
      "metadata": {
        "id": "obEw3agUEl7b"
      },
      "outputs": [],
      "source": [
        "model = ensemble.RandomForestRegressor(random_state=1)"
      ]
    },
    {
      "cell_type": "code",
      "execution_count": null,
      "metadata": {
        "colab": {
          "base_uri": "https://localhost:8080/"
        },
        "id": "OXC1qB6oEoOY",
        "outputId": "34c8f095-87cd-4019-f909-d20697998ab2"
      },
      "outputs": [
        {
          "name": "stdout",
          "output_type": "stream",
          "text": [
            "rmse is 40131.48387287037\n"
          ]
        }
      ],
      "source": [
        "model.fit(X_train,Y_train)\n",
        "pred = model.predict(X_test)\n",
        "rmse = mean_squared_error(Y_test,pred)**0.5\n",
        "print(\"rmse is\", rmse)"
      ]
    },
    {
      "cell_type": "code",
      "execution_count": null,
      "metadata": {
        "id": "_1kfSeprE76u"
      },
      "outputs": [],
      "source": [
        "\n",
        "model = ensemble.GradientBoostingRegressor(random_state= 1)"
      ]
    },
    {
      "cell_type": "code",
      "execution_count": null,
      "metadata": {
        "colab": {
          "base_uri": "https://localhost:8080/"
        },
        "id": "wCKGh5MUErKV",
        "outputId": "c4a86337-e5c3-458d-a238-ebafe99d78bf"
      },
      "outputs": [
        {
          "name": "stdout",
          "output_type": "stream",
          "text": [
            "rmse is 62325.73754141881\n"
          ]
        }
      ],
      "source": [
        "model.fit(X_train,Y_train)\n",
        "pred = model.predict(X_test)\n",
        "rmse = mean_squared_error(Y_test,pred)**0.5\n",
        "print(\"rmse is\", rmse)"
      ]
    },
    {
      "cell_type": "code",
      "execution_count": null,
      "metadata": {
        "id": "XtMVmQzVHD6X"
      },
      "outputs": [],
      "source": [
        "from sklearn import neural_network"
      ]
    },
    {
      "cell_type": "code",
      "execution_count": null,
      "metadata": {
        "id": "Tiw41aRyHN4E"
      },
      "outputs": [],
      "source": [
        "model = neural_network.MLPRegressor(random_state =1)"
      ]
    },
    {
      "cell_type": "code",
      "execution_count": null,
      "metadata": {
        "colab": {
          "base_uri": "https://localhost:8080/"
        },
        "id": "tuTRUXuKHXie",
        "outputId": "1e507886-a37a-43b0-d8f1-d618ab4ed5cb"
      },
      "outputs": [
        {
          "name": "stdout",
          "output_type": "stream",
          "text": [
            "rmse is 151107.6835284498\n"
          ]
        },
        {
          "name": "stderr",
          "output_type": "stream",
          "text": [
            "/usr/local/lib/python3.7/dist-packages/sklearn/neural_network/_multilayer_perceptron.py:696: ConvergenceWarning: Stochastic Optimizer: Maximum iterations (200) reached and the optimization hasn't converged yet.\n",
            "  ConvergenceWarning,\n"
          ]
        }
      ],
      "source": [
        "model.fit(X_train,Y_train)\n",
        "pred = model.predict(X_test)\n",
        "rmse = mean_squared_error(Y_test,pred)**0.5\n",
        "print(\"rmse is\", rmse)"
      ]
    },
    {
      "cell_type": "code",
      "execution_count": null,
      "metadata": {
        "id": "I9Tmu_4DHZ_q"
      },
      "outputs": [],
      "source": [
        "from keras.models import Sequential"
      ]
    },
    {
      "cell_type": "code",
      "execution_count": null,
      "metadata": {
        "id": "xMBR7mfFWl9a"
      },
      "outputs": [],
      "source": [
        "from keras.layers import Dense, Dropout"
      ]
    },
    {
      "cell_type": "code",
      "execution_count": null,
      "metadata": {
        "id": "SCI0Hn3mWuqV"
      },
      "outputs": [],
      "source": [
        "model = Sequential()"
      ]
    },
    {
      "cell_type": "code",
      "execution_count": null,
      "metadata": {
        "id": "t8bfmJzVWywY"
      },
      "outputs": [],
      "source": [
        "model.add(Dense(54,input_dim = 54,activation= \"relu\"))\n",
        "#first input will be the no of neurons\n",
        "#no of neurons is equal to the no of inputs (X=54)\n",
        "#Activation to be used relu, it is linear so calc would be easy. when amt is very small, we take it as 0, in relu, So more info wouldn't disturb us.\n",
        "#Dense is the no of hidden layers"
      ]
    },
    {
      "cell_type": "code",
      "execution_count": null,
      "metadata": {
        "id": "GQpGC5MwYG3t"
      },
      "outputs": [],
      "source": [
        "model.add(Dropout(0.2))\n",
        "#dropout 20% to prevent overfitting"
      ]
    },
    {
      "cell_type": "code",
      "execution_count": null,
      "metadata": {
        "id": "DIIVejWoY3WS"
      },
      "outputs": [],
      "source": [
        "model.add(Dense(54,activation= \"relu\"))\n",
        "#input dim not required for next layer, because there are two variables so 2 layers (X, Y)"
      ]
    },
    {
      "cell_type": "code",
      "execution_count": null,
      "metadata": {
        "id": "UA_tylaLZIRP"
      },
      "outputs": [],
      "source": [
        "model.add(Dropout(0.2))"
      ]
    },
    {
      "cell_type": "code",
      "execution_count": null,
      "metadata": {
        "id": "JakkZb94ZJ63"
      },
      "outputs": [],
      "source": [
        "model.add(Dense(1,activation= \"linear\")) #Y is only 1"
      ]
    },
    {
      "cell_type": "code",
      "execution_count": null,
      "metadata": {
        "id": "6c7-bB9ZZU20"
      },
      "outputs": [],
      "source": [
        "model.add(Dropout(0.2))"
      ]
    },
    {
      "cell_type": "code",
      "execution_count": null,
      "metadata": {
        "id": "GHNiNwEMZWfB"
      },
      "outputs": [],
      "source": [
        "model.compile(loss=\"mse\",optimizer=\"adam\",metrics=[\"mse\"])\n",
        "#loss is the coefficient\n",
        "#optimizer is rate of learning, for the first degree learning rate is 0.01. In the second degree, if the momentum increases, the learning rate also increases.\n",
        "#when you tell the machine to stop, machine will maintain an epsilon which nevers lets it stop completely and the solution is optimised\n",
        "#local minimum for loss depends on momentum of the model. here the idea is to optimise the loss"
      ]
    },
    {
      "cell_type": "code",
      "execution_count": null,
      "metadata": {
        "colab": {
          "background_save": true,
          "base_uri": "https://localhost:8080/"
        },
        "id": "ueqoRksvc6oV",
        "outputId": "6052eaf4-c07c-4672-a764-3bcf231aa3cf"
      },
      "outputs": [
        {
          "name": "stdout",
          "output_type": "stream",
          "text": [
            "Epoch 1/40\n",
            "8327/8327 [==============================] - 17s 2ms/step - loss: 68382146560.0000 - mse: 68382146560.0000\n",
            "Epoch 2/40\n",
            "8327/8327 [==============================] - 18s 2ms/step - loss: 62641516544.0000 - mse: 62641516544.0000\n",
            "Epoch 3/40\n",
            "8327/8327 [==============================] - 16s 2ms/step - loss: 62480822272.0000 - mse: 62480822272.0000\n",
            "Epoch 4/40\n",
            "8327/8327 [==============================] - 17s 2ms/step - loss: 61981491200.0000 - mse: 61981491200.0000\n",
            "Epoch 5/40\n",
            "8327/8327 [==============================] - 16s 2ms/step - loss: 59498217472.0000 - mse: 59498217472.0000\n",
            "Epoch 6/40\n",
            "8327/8327 [==============================] - 15s 2ms/step - loss: 60428734464.0000 - mse: 60428734464.0000\n",
            "Epoch 7/40\n",
            "8327/8327 [==============================] - 15s 2ms/step - loss: 56983994368.0000 - mse: 56983994368.0000\n",
            "Epoch 8/40\n",
            "8327/8327 [==============================] - 15s 2ms/step - loss: 54734168064.0000 - mse: 54734168064.0000\n",
            "Epoch 9/40\n",
            "8327/8327 [==============================] - 15s 2ms/step - loss: 54521151488.0000 - mse: 54521151488.0000\n",
            "Epoch 10/40\n",
            "8327/8327 [==============================] - 15s 2ms/step - loss: 53969711104.0000 - mse: 53969711104.0000\n",
            "Epoch 11/40\n",
            "8327/8327 [==============================] - 15s 2ms/step - loss: 53654667264.0000 - mse: 53654667264.0000\n",
            "Epoch 12/40\n",
            "8327/8327 [==============================] - 17s 2ms/step - loss: 52384579584.0000 - mse: 52384579584.0000\n",
            "Epoch 13/40\n",
            "8327/8327 [==============================] - 16s 2ms/step - loss: 53225381888.0000 - mse: 53225381888.0000\n",
            "Epoch 14/40\n",
            "8327/8327 [==============================] - 15s 2ms/step - loss: 52897689600.0000 - mse: 52897689600.0000\n",
            "Epoch 15/40\n",
            "8327/8327 [==============================] - 15s 2ms/step - loss: 52215009280.0000 - mse: 52215009280.0000\n",
            "Epoch 16/40\n",
            "8327/8327 [==============================] - 16s 2ms/step - loss: 52260524032.0000 - mse: 52260524032.0000\n",
            "Epoch 17/40\n",
            "8327/8327 [==============================] - 16s 2ms/step - loss: 52648288256.0000 - mse: 52648288256.0000\n",
            "Epoch 18/40\n",
            "8327/8327 [==============================] - 16s 2ms/step - loss: 51760091136.0000 - mse: 51760091136.0000\n",
            "Epoch 19/40\n",
            "8327/8327 [==============================] - 16s 2ms/step - loss: 51769561088.0000 - mse: 51769561088.0000\n",
            "Epoch 20/40\n",
            "8327/8327 [==============================] - 17s 2ms/step - loss: 52090408960.0000 - mse: 52090408960.0000\n",
            "Epoch 21/40\n",
            "8327/8327 [==============================] - 16s 2ms/step - loss: 51396247552.0000 - mse: 51396247552.0000\n",
            "Epoch 22/40\n",
            "8327/8327 [==============================] - 16s 2ms/step - loss: 51412553728.0000 - mse: 51412553728.0000\n",
            "Epoch 23/40\n",
            "8327/8327 [==============================] - 16s 2ms/step - loss: 50634006528.0000 - mse: 50634006528.0000\n",
            "Epoch 24/40\n",
            "8327/8327 [==============================] - 15s 2ms/step - loss: 50558431232.0000 - mse: 50558431232.0000\n",
            "Epoch 25/40\n",
            "8327/8327 [==============================] - 15s 2ms/step - loss: 50671435776.0000 - mse: 50671435776.0000\n",
            "Epoch 26/40\n",
            "8327/8327 [==============================] - 16s 2ms/step - loss: 49201672192.0000 - mse: 49201672192.0000\n",
            "Epoch 27/40\n",
            "8327/8327 [==============================] - 16s 2ms/step - loss: 50383634432.0000 - mse: 50383634432.0000\n",
            "Epoch 28/40\n",
            "8327/8327 [==============================] - 15s 2ms/step - loss: 50332766208.0000 - mse: 50332766208.0000\n",
            "Epoch 29/40\n",
            "8327/8327 [==============================] - 15s 2ms/step - loss: 50169548800.0000 - mse: 50169548800.0000\n",
            "Epoch 30/40\n",
            "8327/8327 [==============================] - 14s 2ms/step - loss: 50538827776.0000 - mse: 50538827776.0000\n",
            "Epoch 31/40\n",
            "8327/8327 [==============================] - 15s 2ms/step - loss: 49534287872.0000 - mse: 49534287872.0000\n",
            "Epoch 32/40\n",
            "8327/8327 [==============================] - 15s 2ms/step - loss: 49992888320.0000 - mse: 49992888320.0000\n",
            "Epoch 33/40\n",
            "8327/8327 [==============================] - 15s 2ms/step - loss: 49006198784.0000 - mse: 49006198784.0000\n",
            "Epoch 34/40\n",
            "8327/8327 [==============================] - 15s 2ms/step - loss: 48216707072.0000 - mse: 48216707072.0000\n",
            "Epoch 35/40\n",
            "8327/8327 [==============================] - 15s 2ms/step - loss: 51026006016.0000 - mse: 51026006016.0000\n",
            "Epoch 36/40\n",
            "8327/8327 [==============================] - 14s 2ms/step - loss: 49893367808.0000 - mse: 49893367808.0000\n",
            "Epoch 37/40\n",
            "8327/8327 [==============================] - 15s 2ms/step - loss: 48851775488.0000 - mse: 48851775488.0000\n",
            "Epoch 38/40\n",
            "8327/8327 [==============================] - 15s 2ms/step - loss: 48874536960.0000 - mse: 48874536960.0000\n",
            "Epoch 39/40\n",
            "8327/8327 [==============================] - 15s 2ms/step - loss: 48714559488.0000 - mse: 48714559488.0000\n",
            "Epoch 40/40\n",
            "8327/8327 [==============================] - 15s 2ms/step - loss: 49266225152.0000 - mse: 49266225152.0000\n"
          ]
        }
      ],
      "source": [
        "history = model.fit(X_train, Y_train,batch_size = 2,epochs=40)\n",
        "#batch size means that every 2 rows, the weight is changed. lesser the best size, ,more chances of overfitting but accuracy would be high, but only for train set. Rec = 10\n",
        "#epochs rec= 10-20, when there are no more losses, mse must reach a point to not go down further"
      ]
    },
    {
      "cell_type": "code",
      "execution_count": null,
      "metadata": {
        "colab": {
          "background_save": true
        },
        "id": "ljQfOk9Bdmkg",
        "outputId": "72f653ec-9a6a-4547-a417-17a1813ee5f4"
      },
      "outputs": [
        {
          "data": {
            "text/plain": [
              "[<matplotlib.lines.Line2D at 0x7f4f76c2e910>]"
            ]
          },
          "execution_count": 55,
          "metadata": {},
          "output_type": "execute_result"
        },
        {
          "data": {
            "image/png": "[encoded data removed]",
            "text/plain": [
              "<Figure size 432x288 with 1 Axes>"
            ]
          },
          "metadata": {},
          "output_type": "display_data"
        }
      ],
      "source": [
        "plt.plot(history.history[\"loss\"])  #the graph changes with each run of the file"
      ]
    },
    {
      "cell_type": "code",
      "execution_count": null,
      "metadata": {
        "colab": {
          "background_save": true
        },
        "id": "PCHRJD2PgOnQ",
        "outputId": "524ce2ba-223c-408b-bad7-7af096ad432a"
      },
      "outputs": [
        {
          "name": "stdout",
          "output_type": "stream",
          "text": [
            "174/174 [==============================] - 0s 1ms/step - loss: 13378225152.0000 - mse: 13378225152.0000\n"
          ]
        }
      ],
      "source": [
        "result = model.evaluate(X_test,Y_test)"
      ]
    },
    {
      "cell_type": "code",
      "execution_count": null,
      "metadata": {
        "colab": {
          "background_save": true
        },
        "id": "XaK9nfpag3E_",
        "outputId": "a9ddf767-e903-4452-df34-c1a2735ffe71"
      },
      "outputs": [
        {
          "data": {
            "text/plain": [
              "115664.27776975915"
            ]
          },
          "execution_count": 57,
          "metadata": {},
          "output_type": "execute_result"
        }
      ],
      "source": [
        "result[1]**0.5"
      ]
    },
    {
      "cell_type": "code",
      "execution_count": null,
      "metadata": {
        "colab": {
          "background_save": true
        },
        "id": "iitoZbgpg7G2"
      },
      "outputs": [],
      "source": [
        "df.to_csv(\"Resale_FlatPrice.csv\")"
      ]
    },
    {
      "cell_type": "code",
      "execution_count": null,
      "metadata": {
        "colab": {
          "background_save": true
        },
        "id": "K_h2ncTuZeYl"
      },
      "outputs": [],
      "source": [
        "# As per the run of different models, random forest performs the best because of lower error as represented by the rmse in each. Random forest"
      ]
    },
    {
      "cell_type": "code",
      "execution_count": null,
      "metadata": {
        "colab": {
          "background_save": true
        },
        "id": "s4DFvbVCWE29"
      },
      "outputs": [],
      "source": [
        "# basically outweighs the other models and learns through a structure of trees, which ultimately makes it better from the tree model. In the tree model"
      ]
    },
    {
      "cell_type": "code",
      "execution_count": null,
      "metadata": {
        "colab": {
          "background_save": true
        },
        "id": "rhB7tCYoQnlp"
      },
      "outputs": [],
      "source": [
        "# the learning is based on the perediction of one tree, and thus is less reliable and would be more randomly classifies."
      ]
    },
    {
      "cell_type": "code",
      "execution_count": null,
      "metadata": {
        "colab": {
          "background_save": true
        },
        "id": "lrsJekAWQxRV"
      },
      "outputs": [],
      "source": [
        "# Additionally, the rmse is the worst in the neural network model, which we checked through Keras, and as per Keras, with even 30 epochs and iterations,"
      ]
    },
    {
      "cell_type": "code",
      "execution_count": null,
      "metadata": {
        "colab": {
          "background_save": true
        },
        "id": "dRELOtrtQ8en"
      },
      "outputs": [],
      "source": [
        "# the model seemed to perform better. As per the above results, the neural network requires a lot of modifications to better the learning of the model by"
      ]
    },
    {
      "cell_type": "code",
      "execution_count": null,
      "metadata": {
        "colab": {
          "background_save": true
        },
        "id": "467bSlJCROZ3"
      },
      "outputs": [],
      "source": [
        "#changing the number of epochs, changing the batch size or choosing a different optimizer. In terms of using a model such as Gradient Boosting, the results"
      ]
    },
    {
      "cell_type": "code",
      "execution_count": null,
      "metadata": {
        "colab": {
          "background_save": true
        },
        "id": "fIb_7hrsRdYG"
      },
      "outputs": [],
      "source": [
        "# seem poor, as this model is well known as a weak model, it resembles a lot of charactersrtics of random sampling and thus becomes less realiable."
      ]
    },
    {
      "cell_type": "code",
      "execution_count": null,
      "metadata": {
        "colab": {
          "background_save": true
        },
        "id": "YlgxdpFkR3aP"
      },
      "outputs": [],
      "source": [
        "#Even in the case of linear regression, the analysis is simple, and it is difficult to analyze on how different factors would contribute to the"
      ]
    },
    {
      "cell_type": "code",
      "execution_count": null,
      "metadata": {
        "colab": {
          "background_save": true
        },
        "id": "yFKvPb8KR_WG"
      },
      "outputs": [],
      "source": [
        "# regression of the predicted variable. The model is easy to understand but hard when required to explain changes."
      ]
    },
    {
      "cell_type": "code",
      "execution_count": null,
      "metadata": {
        "colab": {
          "background_save": true
        },
        "id": "tgLDdgHfTjX3"
      },
      "outputs": [],
      "source": []
    }
  ],
  "metadata": {
    "colab": {
      "provenance": [],
      "authorship_tag": "ABX9TyMEr7F6x7LRu6Lb3xsEd19F",
      "include_colab_link": true
    },
    "kernelspec": {
      "display_name": "Python 3",
      "name": "python3"
    },
    "language_info": {
      "name": "python"
    }
  },
  "nbformat": 4,
  "nbformat_minor": 0
}